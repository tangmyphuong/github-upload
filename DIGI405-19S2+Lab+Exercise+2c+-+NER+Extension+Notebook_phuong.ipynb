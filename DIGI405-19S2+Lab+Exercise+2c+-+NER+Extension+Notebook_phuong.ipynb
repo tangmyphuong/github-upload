{
 "cells": [
  {
   "cell_type": "markdown",
   "metadata": {
    "deletable": false,
    "editable": false,
    "nbgrader": {
     "checksum": "adfdfbe4b24c1104bceb73d03b288d88",
     "grade": false,
     "grade_id": "cell-8ba4df940f6d34ce",
     "locked": true,
     "schema_version": 1,
     "solution": false
    }
   },
   "source": [
    "# DIGI405-19S2 Lab Exercise 2c: Named Entity Recognition Extension Notebook\n",
    "\n",
    "## Preparing for this lab exercise\n",
    "\n",
    "The lecture and lab notebook from week six are relevant in preparing for this task. \n",
    "\n",
    "## Introduction\n",
    "\n",
    "This task will get you to train a named entity recognition (NER) model using a tiny data-set and to think through some of the issues in detecting named entities. The task code is based on the example provided on the Spacy website here: https://spacy.io/usage/training#example-new-entity-type\n",
    "\n",
    "Our named entity recogniser will attempt to detect the names of iwi. Iwi are a fundamental social grouping in Māori society, both before and after British colonisation. Iwi are introduced in detail here: https://teara.govt.nz/en/tribal-organisation/page-1. Please read through this page and the linked pages on Māori tribal organisation: https://teara.govt.nz/en/tribal-organisation, including the page on iwi names and history. \n",
    "\n",
    "Iwi affiliations are a key aspect of the social identity of many Māori. For example, in formal occasions or when meeting for the first time, it is common for Māori (and people of other ancestry in New Zealand) to introduce themselves with reference to their iwi and their genealogy. See discussion here: https://www.otago.ac.nz/maori/world/tikanga/whakapapa/index.html.\n",
    "\n",
    "There is information on the geographic regions associated with each iwi on this page: http://www.tkm.govt.nz/map/\n",
    "\n",
    "You can also find discussion of iwi and issues around naming and classification on the Statistics New Zealand page here: http://archive.stats.govt.nz/methods/classifications-and-standards/classification-related-stats-standards/iwi.aspx. This page also links to an Excel spreadsheet of iwi names.\n",
    "\n",
    "## Lab exercise instructions"
   ]
  },
  {
   "cell_type": "markdown",
   "metadata": {
    "deletable": false,
    "editable": false,
    "nbgrader": {
     "checksum": "d6461fac62fc14e2559d77a32654a654",
     "grade": false,
     "grade_id": "cell-327220cf106b2a9c",
     "locked": true,
     "schema_version": 1,
     "solution": false
    }
   },
   "source": [
    "**Type your name:**"
   ]
  },
  {
   "cell_type": "markdown",
   "metadata": {
    "deletable": false,
    "nbgrader": {
     "checksum": "4717790d156cf058e7b649d5a56d1207",
     "grade": true,
     "grade_id": "LabEx2c-Name",
     "locked": false,
     "points": 0,
     "schema_version": 1,
     "solution": true
    }
   },
   "source": [
    "PHUONG MY TANG"
   ]
  },
  {
   "cell_type": "markdown",
   "metadata": {
    "deletable": false,
    "editable": false,
    "nbgrader": {
     "checksum": "b371d7a5a86293faa633ed9d2a2d42f9",
     "grade": false,
     "grade_id": "cell-b1d5e9fbb36f993d",
     "locked": true,
     "schema_version": 1,
     "solution": false
    }
   },
   "source": [
    "**Type your Student ID number:**"
   ]
  },
  {
   "cell_type": "markdown",
   "metadata": {
    "deletable": false,
    "nbgrader": {
     "checksum": "773a8fd15834f090f90f9c56ddb20287",
     "grade": true,
     "grade_id": "LabEx2c-StudentID",
     "locked": false,
     "points": 0,
     "schema_version": 1,
     "solution": true
    }
   },
   "source": [
    "23186540"
   ]
  },
  {
   "cell_type": "markdown",
   "metadata": {
    "deletable": false,
    "editable": false,
    "nbgrader": {
     "checksum": "148c187f1af28c474375ee79d9adbb0c",
     "grade": false,
     "grade_id": "cell-ed70fabb34a3a0d4",
     "locked": true,
     "schema_version": 1,
     "solution": false
    }
   },
   "source": [
    "The questions are at the end of this document. The first set of cells introduce some code for training a NER model. You will then be required to repeat the process with your own examples, do some analysis of the results, and identify some issues we would need to think more about to train a more robust model.\n",
    "\n",
    "Run the next cell to import the required libraries."
   ]
  },
  {
   "cell_type": "code",
   "execution_count": 25,
   "metadata": {
    "collapsed": true,
    "deletable": false,
    "editable": false,
    "nbgrader": {
     "checksum": "7374a5211187228580b104fc5804b5e0",
     "grade": false,
     "grade_id": "cell-f43a740cc357aa1b",
     "locked": true,
     "schema_version": 1,
     "solution": false
    }
   },
   "outputs": [],
   "source": [
    "from __future__ import unicode_literals, print_function\n",
    "import random\n",
    "from pathlib import Path\n",
    "import spacy\n",
    "from spacy.util import minibatch, compounding"
   ]
  },
  {
   "cell_type": "markdown",
   "metadata": {
    "deletable": false,
    "editable": false,
    "nbgrader": {
     "checksum": "c0eb4325d203f10ca53fdccdd62533ef",
     "grade": false,
     "grade_id": "cell-473e1eee6de13088",
     "locked": true,
     "schema_version": 1,
     "solution": false
    }
   },
   "source": [
    "Here is some sample text from the Wikipedia entry for \"Iwi\": https://en.wikipedia.org/wiki/Iwi"
   ]
  },
  {
   "cell_type": "code",
   "execution_count": 26,
   "metadata": {
    "deletable": false,
    "editable": false,
    "nbgrader": {
     "checksum": "96d7846023b94c11b493b54c8bd656dc",
     "grade": false,
     "grade_id": "cell-52a490971514e8e7",
     "locked": true,
     "schema_version": 1,
     "solution": false
    }
   },
   "outputs": [
    {
     "name": "stdout",
     "output_type": "stream",
     "text": [
      "Iwi are the largest social units in Aotearoa Māori society. The Māori-language word iwi means \"people\" or \"nation\", and is often translated as \"tribe\", or \"a confederation of tribes\". The word is both singular and plural in Māori.\n",
      "\n",
      "Iwi groups trace their ancestry to the original Polynesian migrants who, according to tradition, arrived from Hawaiki. Some iwi cluster into larger groupings that are based on whakapapa (genealogical tradition) and known as waka (literally \"canoes\", with reference to the original migration voyages). These super-groupings generally serve symbolic rather than practical functions. In pre-European times, most Māori were allied to relatively small groups in the form of hapū (\"sub-tribes\") and whānau (\"family\"). Each iwi contains a number of hapū; among the hapū of the Ngāti Whātua iwi, for example, are Te Uri-o-Hau, Te Roroa, Te Taoū, and Ngāti Whātua-o-Ōrākei.\n",
      "\n",
      "In modern-day New Zealand, iwi can exercise significant political power in the recovery and management of land and of other assets. (Note for example the 1997 Treaty of Waitangi settlement between the New Zealand Government and Ngāi Tahu, compensating that iwi for various losses of the rights guaranteed under the Treaty of Waitangi of 1840.) Iwi affairs can have a real impact on New Zealand politics and society. A 2004 attempt by some iwi to test in court their ownership of the seabed and foreshore areas polarised public opinion (see New Zealand foreshore and seabed controversy). \n"
     ]
    }
   ],
   "source": [
    "text = '''Iwi are the largest social units in Aotearoa Māori society. The Māori-language word iwi means \"people\" or \"nation\", and is often translated as \"tribe\", or \"a confederation of tribes\". The word is both singular and plural in Māori.\n",
    "\n",
    "Iwi groups trace their ancestry to the original Polynesian migrants who, according to tradition, arrived from Hawaiki. Some iwi cluster into larger groupings that are based on whakapapa (genealogical tradition) and known as waka (literally \"canoes\", with reference to the original migration voyages). These super-groupings generally serve symbolic rather than practical functions. In pre-European times, most Māori were allied to relatively small groups in the form of hapū (\"sub-tribes\") and whānau (\"family\"). Each iwi contains a number of hapū; among the hapū of the Ngāti Whātua iwi, for example, are Te Uri-o-Hau, Te Roroa, Te Taoū, and Ngāti Whātua-o-Ōrākei.\n",
    "\n",
    "In modern-day New Zealand, iwi can exercise significant political power in the recovery and management of land and of other assets. (Note for example the 1997 Treaty of Waitangi settlement between the New Zealand Government and Ngāi Tahu, compensating that iwi for various losses of the rights guaranteed under the Treaty of Waitangi of 1840.) Iwi affairs can have a real impact on New Zealand politics and society. A 2004 attempt by some iwi to test in court their ownership of the seabed and foreshore areas polarised public opinion (see New Zealand foreshore and seabed controversy). '''\n",
    "\n",
    "print(text)"
   ]
  },
  {
   "cell_type": "markdown",
   "metadata": {
    "deletable": false,
    "editable": false,
    "nbgrader": {
     "checksum": "9cc74d665cab6d635e2dc57f514e0fb9",
     "grade": false,
     "grade_id": "cell-16c0229d5a50560f",
     "locked": true,
     "schema_version": 1,
     "solution": false
    }
   },
   "source": [
    "We're going to check to see what named entities Spacy detects using one of its pre-trained models."
   ]
  },
  {
   "cell_type": "code",
   "execution_count": 27,
   "metadata": {
    "deletable": false,
    "editable": false,
    "nbgrader": {
     "checksum": "04d017651945b1f7efbd51eaed9b5a45",
     "grade": false,
     "grade_id": "cell-ad892b76de6e8f79",
     "locked": true,
     "schema_version": 1,
     "solution": false
    }
   },
   "outputs": [
    {
     "name": "stdout",
     "output_type": "stream",
     "text": [
      "GPE Aotearoa Māori\n",
      "PERSON Māori\n",
      "GPE Māori\n",
      "NORP Polynesian\n",
      "GPE Hawaiki\n",
      "NORP pre-European\n",
      "PERSON Māori\n",
      "FAC the Ngāti Whātua\n",
      "PERSON Te Uri-\n",
      "PERSON Te Roroa\n",
      "ORG Te Taoū\n",
      "PERSON Ngāti Whātua-o-Ōrākei\n",
      "DATE modern-day\n",
      "GPE New Zealand\n",
      "DATE 1997\n",
      "EVENT Treaty of Waitangi\n",
      "ORG the New Zealand Government\n",
      "PERSON Ngāi Tahu\n",
      "LAW the Treaty of Waitangi of 1840\n",
      "GPE New Zealand\n",
      "DATE 2004\n",
      "GPE New Zealand\n"
     ]
    }
   ],
   "source": [
    "nlp = spacy.load('en_core_web_sm')\n",
    "doc = nlp(text)\n",
    "for ent in doc.ents:\n",
    "    print(ent.label_, ent.text)"
   ]
  },
  {
   "cell_type": "markdown",
   "metadata": {
    "deletable": false,
    "editable": false,
    "nbgrader": {
     "checksum": "2fcb2d291373e8db99107f02eff57750",
     "grade": false,
     "grade_id": "cell-d67d1a434250083d",
     "locked": true,
     "schema_version": 1,
     "solution": false
    }
   },
   "source": [
    "Take a look at the text above and the named entities that have been detected. Several iwi names are being classified incorrectly (e.g. Ngāi Tahu, the largest iwi in the South Island - Te Waipounamu, is classified as \"PERSON\"). We might question where an iwi fits in the NER types used by Spacy (see https://spacy.io/api/annotation#named-entities). For example, is an iwi an ORG or a NORP? We might question whether aspects of the social identity and social organisation of indigenous peoples are captured by classifications that derive their meaning from capitalist and colonial systems of knowledge organisation. In addition, even if we decided that iwi fitted the ORG or NORP categories, iwi are likely to be neglected in the data used to train the NER models.\n",
    "\n",
    "### Training a named entity recogniser for \"IWI\"\n",
    "\n",
    "We're going to now train a completely new model based on the code provided here: https://spacy.io/usage/training#example-new-entity-type. This webpage contains more information on training models with Spacy that is relevant background for this task."
   ]
  },
  {
   "cell_type": "markdown",
   "metadata": {
    "deletable": false,
    "editable": false,
    "nbgrader": {
     "checksum": "53d39f9a92af1c7ae80f515b6bd8debe",
     "grade": false,
     "grade_id": "cell-fab3bfc07f110baf",
     "locked": true,
     "schema_version": 1,
     "solution": false
    }
   },
   "source": [
    "We need a label for our new entity:"
   ]
  },
  {
   "cell_type": "code",
   "execution_count": 28,
   "metadata": {
    "collapsed": true,
    "deletable": false,
    "editable": false,
    "nbgrader": {
     "checksum": "7b2644a03ee52220c81bfe3fea5d0981",
     "grade": false,
     "grade_id": "cell-2fb31900730f8f85",
     "locked": true,
     "schema_version": 1,
     "solution": false
    }
   },
   "outputs": [],
   "source": [
    "# new entity label\n",
    "LABEL = \"IWI\""
   ]
  },
  {
   "cell_type": "markdown",
   "metadata": {
    "deletable": false,
    "editable": false,
    "nbgrader": {
     "checksum": "998ecbb874f2fbebc1e866921ad775f9",
     "grade": false,
     "grade_id": "cell-a9d884269d7cda77",
     "locked": true,
     "schema_version": 1,
     "solution": false
    }
   },
   "source": [
    "The next cell contains a function definition we will use to train our model. A reminder that this is adapted from https://spacy.io/usage/training#example-new-entity-type. You might want to read this to get more of an understanding of the code, but you can complete the task without understanding everything about this code. The function includes some default variables used in training. You don't need to change these for this exercise. We are going to create a new model to detect iwi rather than adapting an existing model."
   ]
  },
  {
   "cell_type": "code",
   "execution_count": 29,
   "metadata": {
    "collapsed": true,
    "deletable": false,
    "editable": false,
    "nbgrader": {
     "checksum": "f39cf7dadf70ee0c2bf98ee05317f94a",
     "grade": false,
     "grade_id": "cell-574b97c3fa354ea1",
     "locked": true,
     "schema_version": 1,
     "solution": false
    }
   },
   "outputs": [],
   "source": [
    "# we don't want to preload an existing spacy model - we just want a blank one\n",
    "# n_iter is the number of training iterations, I'm using what the Spacy example used\n",
    "def train_ner(model=None, n_iter=30):\n",
    "    random.seed(0)\n",
    "    if model is not None:\n",
    "        nlp = spacy.load(model)  # load existing spaCy model\n",
    "        print(\"Loaded model '%s'\" % model)\n",
    "    else:\n",
    "        nlp = spacy.blank(\"en\")  # create blank Language class\n",
    "        print(\"Created blank 'en' model\")\n",
    "    # Add entity recognizer to model if it's not in the pipeline\n",
    "    # nlp.create_pipe works for built-ins that are registered with spaCy\n",
    "    if \"ner\" not in nlp.pipe_names:\n",
    "        ner = nlp.create_pipe(\"ner\")\n",
    "        nlp.add_pipe(ner)\n",
    "    # otherwise, get it, so we can add labels to it\n",
    "    else:\n",
    "        ner = nlp.get_pipe(\"ner\")\n",
    "\n",
    "    ner.add_label(LABEL)  # add new entity label to entity recognizer\n",
    "    # Adding extraneous labels shouldn't mess anything up e.g. ner.add_label(\"VEGETABLE\")\n",
    "    if model is None:\n",
    "        optimizer = nlp.begin_training()\n",
    "    else:\n",
    "        optimizer = nlp.resume_training()\n",
    "    move_names = list(ner.move_names)\n",
    "    # get names of other pipes to disable them during training\n",
    "    other_pipes = [pipe for pipe in nlp.pipe_names if pipe != \"ner\"]\n",
    "    with nlp.disable_pipes(*other_pipes):  # only train NER\n",
    "        sizes = compounding(1.0, 4.0, 1.001)\n",
    "        # batch up the examples using spaCy's minibatch\n",
    "        for itn in range(n_iter):\n",
    "            random.shuffle(TRAIN_DATA)\n",
    "            batches = minibatch(TRAIN_DATA, size=sizes)\n",
    "            losses = {}\n",
    "            for batch in batches:\n",
    "                texts, annotations = zip(*batch)\n",
    "                nlp.update(texts, annotations, sgd=optimizer, drop=0.35, losses=losses)\n",
    "            print(\"Losses\", losses)\n",
    "    return nlp"
   ]
  },
  {
   "cell_type": "markdown",
   "metadata": {
    "deletable": false,
    "editable": false,
    "nbgrader": {
     "checksum": "924ca612064963105d55033a4b775079",
     "grade": false,
     "grade_id": "cell-57242a09dc5ee7f9",
     "locked": true,
     "schema_version": 1,
     "solution": false
    }
   },
   "source": [
    "To create some training data we need to gather some sentences and annotate the entities. To annotate the entities we need to know the start and end character positions of the entity in a string. In the example sentence:   \n",
    "`The Takiwā over which Ngāi Tahu holds rangatiratanga extends over 80 percent of Te Waipounamu (the South Island)`  \n",
    "the iwi name Ngāi Tahu begins at position 22 and ends at position 31.\n",
    "\n",
    "<img src=\"data:image/png;base64,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\" />\n",
    "\n",
    "The following cell contains some code to show you how to splice a string to verify you have the start and end character positions correct."
   ]
  },
  {
   "cell_type": "code",
   "execution_count": 30,
   "metadata": {
    "deletable": false,
    "editable": false,
    "nbgrader": {
     "checksum": "145e95a921b244924d36b3e79fd4ad0f",
     "grade": false,
     "grade_id": "cell-2d69745e55cfd7be",
     "locked": true,
     "schema_version": 1,
     "solution": false
    }
   },
   "outputs": [
    {
     "data": {
      "text/plain": [
       "'Ngāi Tahu'"
      ]
     },
     "execution_count": 30,
     "metadata": {},
     "output_type": "execute_result"
    }
   ],
   "source": [
    "example = 'The Takiwā over which Ngāi Tahu holds rangatiratanga extends over 80 percent of Te Waipounamu (the South Island)'\n",
    "example[22:31]"
   ]
  },
  {
   "cell_type": "markdown",
   "metadata": {
    "deletable": false,
    "editable": false,
    "nbgrader": {
     "checksum": "3ad69022d5c1d6b468b3b9f26e1c2fe2",
     "grade": false,
     "grade_id": "cell-74998104f270c81d",
     "locked": true,
     "schema_version": 1,
     "solution": false
    }
   },
   "source": [
    "In the next cell I've created some training data based on five annotated example sentences. The training data is specified using the data structure used by Spacy. These example are real sentences from different sources on the web. Note that for each sentence we need to identify each instance of the entity and the start and end position of the tokens related to the named entity. \n",
    "\n",
    "You will notice some of the examples contain multiple iwi entities (e.g. the second example sentence has iwi entities labelled for Ngāpuhi, Ngāti Wai, and Ngāti Whātua).\n",
    "\n",
    "There are only five example sentences here. To train a model we would need lots more data (100s or 1000s of example sentences) - but this still works as an example. "
   ]
  },
  {
   "cell_type": "code",
   "execution_count": 31,
   "metadata": {
    "collapsed": true,
    "deletable": false,
    "editable": false,
    "nbgrader": {
     "checksum": "b338942de57dca86fbf3300f78eefcd0",
     "grade": false,
     "grade_id": "cell-eb506eca2c8d0d4b",
     "locked": true,
     "schema_version": 1,
     "solution": false
    }
   },
   "outputs": [],
   "source": [
    "TRAIN_DATA = [\n",
    "    (\n",
    "        'The Takiwā over which Ngāi Tahu holds rangatiratanga extends over 80 percent of Te Waipounamu (the South Island).',\n",
    "        {'entities': [\n",
    "            (22, 31, LABEL)\n",
    "        ]}\n",
    "    ),    \n",
    "    (\n",
    "        'Although it is sometimes considered a major hapū of Ngāpuhi, Ngāti Wai, which also has links with Ngāti Whātua to its south, is also a recognised iwi in the Māori Fisheries Act 2004 and is increasingly asserting its status as an independent iwi.',\n",
    "        {'entities': [\n",
    "            (52, 59, LABEL), \n",
    "            (61, 70, LABEL), \n",
    "            (98, 110, LABEL)\n",
    "        ]}\n",
    "    ),\n",
    "    (\n",
    "        'Te Aupōuri is the second northernmost Māori iwi (tribal group), located north of Kaitaia, Northland, New Zealand, a region known as the Te Hiku o te Ika',\n",
    "        {'entities': [\n",
    "            (0, 10, LABEL)\n",
    "        ]},\n",
    "    ),\n",
    "    (\n",
    "        'Ngāti Tūwharetoa is a recognised iwi under the Māori Fisheries Act 2004.',\n",
    "        {'entities': [\n",
    "            (0, 16, LABEL)\n",
    "        ]}\n",
    "    ),\n",
    "    (\n",
    "        'Iwi with interests in the region include Ngāi Te Rangi, Ngāti Ranginui and Ngāti Pūkenga, along with Waitaha towards the south-east.',\n",
    "        {'entities': [\n",
    "            (41, 54, LABEL),\n",
    "            (56, 70, LABEL),\n",
    "            (75, 88, LABEL),\n",
    "            (101, 108, LABEL)\n",
    "        ]}\n",
    "    ),\n",
    "]\n",
    "\n",
    "\n"
   ]
  },
  {
   "cell_type": "markdown",
   "metadata": {
    "deletable": false,
    "editable": false,
    "nbgrader": {
     "checksum": "784b53f7d2f5bfbec2d702229c67693b",
     "grade": false,
     "grade_id": "cell-69ea2476495a9562",
     "locked": true,
     "schema_version": 1,
     "solution": false
    }
   },
   "source": [
    "This next cell runs the function to train a model. The \"losses\" should converge towards zero."
   ]
  },
  {
   "cell_type": "code",
   "execution_count": 32,
   "metadata": {
    "deletable": false,
    "editable": false,
    "nbgrader": {
     "checksum": "8a839cb3537e391014188d3cc7bcad1c",
     "grade": false,
     "grade_id": "cell-5717c40c02e28136",
     "locked": true,
     "schema_version": 1,
     "solution": false
    }
   },
   "outputs": [
    {
     "name": "stdout",
     "output_type": "stream",
     "text": [
      "Created blank 'en' model\n",
      "Losses {'ner': 100.91135847568512}\n",
      "Losses {'ner': 49.40482650697231}\n",
      "Losses {'ner': 19.970200185058275}\n",
      "Losses {'ner': 18.774082237467155}\n",
      "Losses {'ner': 15.517260241773329}\n",
      "Losses {'ner': 29.45658389024652}\n",
      "Losses {'ner': 14.41265244209717}\n",
      "Losses {'ner': 16.727367267973307}\n",
      "Losses {'ner': 13.829194181506459}\n",
      "Losses {'ner': 16.73751704793687}\n",
      "Losses {'ner': 18.117182211208792}\n",
      "Losses {'ner': 14.120967693571046}\n",
      "Losses {'ner': 9.579739988310411}\n",
      "Losses {'ner': 6.842647019463335}\n",
      "Losses {'ner': 5.380389643596465}\n",
      "Losses {'ner': 5.059952453937886}\n",
      "Losses {'ner': 5.168626231441552}\n",
      "Losses {'ner': 7.295210672705683}\n",
      "Losses {'ner': 3.9797199386102386}\n",
      "Losses {'ner': 5.9134831174662805}\n",
      "Losses {'ner': 6.727948522143925}\n",
      "Losses {'ner': 2.431727635393261}\n",
      "Losses {'ner': 9.770533837295286}\n",
      "Losses {'ner': 3.5251318476819637}\n",
      "Losses {'ner': 3.1506908232520736}\n",
      "Losses {'ner': 0.7188592303126806}\n",
      "Losses {'ner': 1.2841187238922818}\n",
      "Losses {'ner': 0.7106314055499469}\n",
      "Losses {'ner': 0.02184254432292731}\n",
      "Losses {'ner': 0.0668800177913362}\n"
     ]
    }
   ],
   "source": [
    "#train the model\n",
    "nlp = train_ner()"
   ]
  },
  {
   "cell_type": "markdown",
   "metadata": {
    "deletable": false,
    "editable": false,
    "nbgrader": {
     "checksum": "4f61020ff4eca7fa305752cc80b0d1e4",
     "grade": false,
     "grade_id": "cell-b94d5f609ccde19b",
     "locked": true,
     "schema_version": 1,
     "solution": false
    }
   },
   "source": [
    "We can now test our model. We aren't going to evaluate this statistically (e.g. with an F1 score, precision, and recall). We will introduce statistical model evaluation in future classes. Instead, in this instance I want you to closely examine what has been classified with our new NER type IWI using the original text."
   ]
  },
  {
   "cell_type": "code",
   "execution_count": 33,
   "metadata": {
    "deletable": false,
    "editable": false,
    "nbgrader": {
     "checksum": "b107f938bbf9a246d96b48acde87f4e8",
     "grade": false,
     "grade_id": "cell-de0c207b66752197",
     "locked": true,
     "schema_version": 1,
     "solution": false
    }
   },
   "outputs": [
    {
     "name": "stdout",
     "output_type": "stream",
     "text": [
      "Here is our test text again:\n",
      "Iwi are the largest social units in Aotearoa Māori society. The Māori-language word iwi means \"people\" or \"nation\", and is often translated as \"tribe\", or \"a confederation of tribes\". The word is both singular and plural in Māori.\n",
      "\n",
      "Iwi groups trace their ancestry to the original Polynesian migrants who, according to tradition, arrived from Hawaiki. Some iwi cluster into larger groupings that are based on whakapapa (genealogical tradition) and known as waka (literally \"canoes\", with reference to the original migration voyages). These super-groupings generally serve symbolic rather than practical functions. In pre-European times, most Māori were allied to relatively small groups in the form of hapū (\"sub-tribes\") and whānau (\"family\"). Each iwi contains a number of hapū; among the hapū of the Ngāti Whātua iwi, for example, are Te Uri-o-Hau, Te Roroa, Te Taoū, and Ngāti Whātua-o-Ōrākei.\n",
      "\n",
      "In modern-day New Zealand, iwi can exercise significant political power in the recovery and management of land and of other assets. (Note for example the 1997 Treaty of Waitangi settlement between the New Zealand Government and Ngāi Tahu, compensating that iwi for various losses of the rights guaranteed under the Treaty of Waitangi of 1840.) Iwi affairs can have a real impact on New Zealand politics and society. A 2004 attempt by some iwi to test in court their ownership of the seabed and foreshore areas polarised public opinion (see New Zealand foreshore and seabed controversy). \n",
      "\n",
      "Here are the entities we have detected:\n",
      "IWI European\n",
      "IWI Ngāti Whātua\n",
      "IWI Te Roroa\n",
      "IWI Te Taoū\n",
      "IWI Ngāti Whātua\n",
      "IWI Ngāi Tahu\n",
      "IWI Waitangi\n"
     ]
    }
   ],
   "source": [
    "# test the trained model\n",
    "doc = nlp(text)\n",
    "print(u'Here is our test text again:\\n' + text)\n",
    "print()\n",
    "print('Here are the entities we have detected:')\n",
    "for ent in doc.ents:\n",
    "    print(ent.label_, ent.text)"
   ]
  },
  {
   "cell_type": "markdown",
   "metadata": {
    "deletable": false,
    "editable": false,
    "nbgrader": {
     "checksum": "3bc3892ed7f6b6454f9208ef58564349",
     "grade": false,
     "grade_id": "cell-73d8c32ec1390a21",
     "locked": true,
     "schema_version": 1,
     "solution": false
    }
   },
   "source": [
    "Results will differ as the training has a random element to it. You can rerun the training step and then run the model on the text to see this. This obviously isn't perfect, but it does detect some iwi names (and probably some other things)."
   ]
  },
  {
   "cell_type": "markdown",
   "metadata": {
    "deletable": false,
    "editable": false,
    "nbgrader": {
     "checksum": "2d38d7813c4c7593a83d40a3e230c364",
     "grade": false,
     "grade_id": "cell-bc40f1045610180b",
     "locked": true,
     "schema_version": 1,
     "solution": false
    }
   },
   "source": [
    "Ok, now to your task!"
   ]
  },
  {
   "cell_type": "markdown",
   "metadata": {
    "deletable": false,
    "editable": false,
    "nbgrader": {
     "checksum": "59b10886067224c8bc9872c2adc04c44",
     "grade": false,
     "grade_id": "cell-15c0b32b1c4ec9ab",
     "locked": true,
     "schema_version": 1,
     "solution": false
    }
   },
   "source": [
    "1. (2 marks) **Collect five new sentences from the web that mention names of iwi. Add the training data into the next cell and annotate the data to label the start and end characters of the iwi entities.**  \n",
    "The data structure should look like this:  \n",
    "```\n",
    "TRAIN_DATA = [\n",
    "    (\n",
    "        'Example sentence 1 with an iwi name.',\n",
    "        {'entities': [\n",
    "            (0, 7, LABEL)\n",
    "        ]}\n",
    "    ),    \n",
    "    (\n",
    "        'Example sentence 2 with an iwi name.',\n",
    "        {'entities': [\n",
    "            (0, 7, LABEL)\n",
    "        ]}\n",
    "    ),    \n",
    "    (\n",
    "        'Example sentence 3 with an iwi name.',\n",
    "        {'entities': [\n",
    "            (0, 7, LABEL)\n",
    "        ]}\n",
    "    ),    \n",
    "    (\n",
    "        'Example sentence 4 with an iwi name.',\n",
    "        {'entities': [\n",
    "            (0, 7, LABEL)\n",
    "        ]}\n",
    "    ),    \n",
    "    (\n",
    "        'Example sentence 5 with an iwi name.',\n",
    "        {'entities': [\n",
    "            (0, 7, LABEL)\n",
    "        ]}\n",
    "    ),    \n",
    "]\n",
    "```  \n",
    "You should start by pasting this code into the cell below. You should then add in your sentences and annotate the entities.  \n",
    "To find sentences you will need to know the names of different iwi. You can access a spreadsheet of iwi names via this page: http://archive.stats.govt.nz/methods/classifications-and-standards/classification-related-stats-standards/iwi.aspx.  \n",
    "You can find example sentences on the websites of each iwi, New Zealand news websites, government websites, Wikipedia articles about each iwi, and so on. Once you have created the training data run the next cells to train a model and test the trained model."
   ]
  },
  {
   "cell_type": "code",
   "execution_count": 34,
   "metadata": {
    "deletable": false,
    "nbgrader": {
     "checksum": "f782fb570bd7c821d4337f5ab02675fe",
     "grade": true,
     "grade_id": "LabEx2c-1",
     "locked": false,
     "points": 2,
     "schema_version": 1,
     "solution": true
    }
   },
   "outputs": [],
   "source": [
    "TRAIN_DATA = [\n",
    " (\n",
    "         'Ngāti has become a productive morpheme in New Zealand English to refer to groups of people: examples are Ngāti Pākehā (Pākehā as a group), Ngāti Poneke (Māori who have migrated to the Wellington region), and Ngāti Rānana (Māori living in London)',\n",
    "     {'entities': [\n",
    "         (105, 117, LABEL),\n",
    "         (139, 151, LABEL),\n",
    "         (208, 220, LABEL)\n",
    "     ]}\n",
    " ),    \n",
    " (\n",
    "     'Each iwi contains a number of hapū; among the hapū of the Ngāti Whātua iwi, for example, are Te Uri-o-Hau, Te Roroa, Te Taoū, and Ngāti Whātua-o-Ōrākei',\n",
    "     {'entities': [\n",
    "         (58, 70, LABEL),\n",
    "         \n",
    "     ]}\n",
    " ),    \n",
    " (\n",
    "     'Te Arawa – 43,374 (in 2013) – confederation of iwi and hapū based in Rotorua and the Bay of Plenty',\n",
    "     {'entities': [\n",
    "         (0, 8, LABEL)\n",
    "     ]}\n",
    " ),    \n",
    " (\n",
    "     'Ngāti Tūmatauenga (\"Tribe of Tūmatauenga\", the god of war) is the official Māori-language name of the New Zealand Army, and Ngā Opango (\"Black Tribe\") is a Māori-language name for the All Blacks.',\n",
    "     {'entities': [\n",
    "         (0, 17, LABEL),\n",
    "         (124, 134, LABEL)\n",
    "     ]}\n",
    " ),    \n",
    " (\n",
    "     'Ngāi Tahu Whanui – 55,986 (in 2013) – based in the South Island',\n",
    "     {'entities': [\n",
    "         (0, 16, LABEL)\n",
    "     ]}\n",
    " ),    \n",
    "]"
   ]
  },
  {
   "cell_type": "code",
   "execution_count": 35,
   "metadata": {},
   "outputs": [
    {
     "data": {
      "text/plain": [
       "[('Ngāti', 0),\n",
       " ('Tūmatauenga', 6),\n",
       " ('(', 18),\n",
       " ('\"', 19),\n",
       " ('Tribe', 20),\n",
       " ('of', 26),\n",
       " ('Tūmatauenga', 29),\n",
       " ('\"', 40),\n",
       " (',', 41),\n",
       " ('the', 43),\n",
       " ('god', 47),\n",
       " ('of', 51),\n",
       " ('war', 54),\n",
       " (')', 57),\n",
       " ('is', 59),\n",
       " ('the', 62),\n",
       " ('official', 66),\n",
       " ('Māori', 75),\n",
       " ('-', 80),\n",
       " ('language', 81),\n",
       " ('name', 90),\n",
       " ('of', 95),\n",
       " ('the', 98),\n",
       " ('New', 102),\n",
       " ('Zealand', 106),\n",
       " ('Army', 114),\n",
       " (',', 118),\n",
       " ('and', 120),\n",
       " ('Ngā', 124),\n",
       " ('Opango', 128),\n",
       " ('(', 135),\n",
       " ('\"', 136),\n",
       " ('Black', 137),\n",
       " ('Tribe', 143),\n",
       " ('\"', 148),\n",
       " (')', 149),\n",
       " ('is', 151),\n",
       " ('a', 154),\n",
       " ('Māori', 156),\n",
       " ('-', 161),\n",
       " ('language', 162),\n",
       " ('name', 171),\n",
       " ('for', 176),\n",
       " ('the', 180),\n",
       " ('All', 184),\n",
       " ('Blacks', 188),\n",
       " ('.', 194)]"
      ]
     },
     "execution_count": 35,
     "metadata": {},
     "output_type": "execute_result"
    }
   ],
   "source": [
    "# to find the start and end position of tokens\n",
    "import spacy\n",
    "nlp = spacy.load('en_core_web_sm')\n",
    "parse = nlp(u'Ngāti Tūmatauenga (\"Tribe of Tūmatauenga\", the god of war) is the official Māori-language name of the New Zealand Army, and Ngā Opango (\"Black Tribe\") is a Māori-language name for the All Blacks. ')\n",
    "[(token.text,token.idx) for token in parse]"
   ]
  },
  {
   "cell_type": "code",
   "execution_count": 36,
   "metadata": {},
   "outputs": [
    {
     "data": {
      "text/plain": [
       "'Ngā Opango'"
      ]
     },
     "execution_count": 36,
     "metadata": {},
     "output_type": "execute_result"
    }
   ],
   "source": [
    "# To verify if I have the start and end character positions correct\n",
    "example = 'Ngāti Tūmatauenga (\"Tribe of Tūmatauenga\", the god of war) is the official Māori-language name of the New Zealand Army, and Ngā Opango (\"Black Tribe\") is a Māori-language name for the All Blacks.'\n",
    "example[124:134]"
   ]
  },
  {
   "cell_type": "code",
   "execution_count": 37,
   "metadata": {
    "deletable": false,
    "editable": false,
    "nbgrader": {
     "checksum": "2f248da1d67c037f8457bc632aa9e8dd",
     "grade": false,
     "grade_id": "cell-040f4f76a960142f",
     "locked": true,
     "schema_version": 1,
     "solution": false
    }
   },
   "outputs": [
    {
     "name": "stdout",
     "output_type": "stream",
     "text": [
      "Created blank 'en' model\n",
      "Losses {'ner': 123.5387407541275}\n",
      "Losses {'ner': 69.06282307952642}\n",
      "Losses {'ner': 22.539763625529304}\n",
      "Losses {'ner': 15.54560556605216}\n",
      "Losses {'ner': 15.168727926704541}\n",
      "Losses {'ner': 11.193415582336456}\n",
      "Losses {'ner': 16.720356605484994}\n",
      "Losses {'ner': 7.754299211148037}\n",
      "Losses {'ner': 13.825510858452798}\n",
      "Losses {'ner': 15.598801405239394}\n",
      "Losses {'ner': 18.061616279518105}\n",
      "Losses {'ner': 17.614834662940545}\n",
      "Losses {'ner': 18.14064255825853}\n",
      "Losses {'ner': 13.41714121362924}\n",
      "Losses {'ner': 8.539314901200477}\n",
      "Losses {'ner': 10.667435250538045}\n",
      "Losses {'ner': 6.611661481511559}\n",
      "Losses {'ner': 2.3442393200948137}\n",
      "Losses {'ner': 4.1365948902125975}\n",
      "Losses {'ner': 3.041861106910223}\n",
      "Losses {'ner': 2.964892614682432}\n",
      "Losses {'ner': 1.715894744504288}\n",
      "Losses {'ner': 0.886285273400196}\n",
      "Losses {'ner': 1.0507910286689779}\n",
      "Losses {'ner': 0.43417741952899913}\n",
      "Losses {'ner': 0.03472302555395588}\n",
      "Losses {'ner': 0.000390358013244729}\n",
      "Losses {'ner': 0.00022748507026551778}\n",
      "Losses {'ner': 0.001484764746116317}\n",
      "Losses {'ner': 1.527072536799027e-05}\n"
     ]
    }
   ],
   "source": [
    "#train the model\n",
    "nlp = train_ner()"
   ]
  },
  {
   "cell_type": "code",
   "execution_count": 38,
   "metadata": {
    "deletable": false,
    "editable": false,
    "nbgrader": {
     "checksum": "5fa6ae7074099c3933d55c85af33e52c",
     "grade": false,
     "grade_id": "cell-03e9992ed7b1ed26",
     "locked": true,
     "schema_version": 1,
     "solution": false
    }
   },
   "outputs": [
    {
     "name": "stdout",
     "output_type": "stream",
     "text": [
      "Here is our test text again:\n",
      "Iwi are the largest social units in Aotearoa Māori society. The Māori-language word iwi means \"people\" or \"nation\", and is often translated as \"tribe\", or \"a confederation of tribes\". The word is both singular and plural in Māori.\n",
      "\n",
      "Iwi groups trace their ancestry to the original Polynesian migrants who, according to tradition, arrived from Hawaiki. Some iwi cluster into larger groupings that are based on whakapapa (genealogical tradition) and known as waka (literally \"canoes\", with reference to the original migration voyages). These super-groupings generally serve symbolic rather than practical functions. In pre-European times, most Māori were allied to relatively small groups in the form of hapū (\"sub-tribes\") and whānau (\"family\"). Each iwi contains a number of hapū; among the hapū of the Ngāti Whātua iwi, for example, are Te Uri-o-Hau, Te Roroa, Te Taoū, and Ngāti Whātua-o-Ōrākei.\n",
      "\n",
      "In modern-day New Zealand, iwi can exercise significant political power in the recovery and management of land and of other assets. (Note for example the 1997 Treaty of Waitangi settlement between the New Zealand Government and Ngāi Tahu, compensating that iwi for various losses of the rights guaranteed under the Treaty of Waitangi of 1840.) Iwi affairs can have a real impact on New Zealand politics and society. A 2004 attempt by some iwi to test in court their ownership of the seabed and foreshore areas polarised public opinion (see New Zealand foreshore and seabed controversy). \n",
      "\n",
      "Here are the entities we have detected:\n",
      "IWI Ngāti Whātua\n"
     ]
    }
   ],
   "source": [
    "# test the trained model\n",
    "doc = nlp(text)\n",
    "print(u'Here is our test text again:\\n' + text)\n",
    "print()\n",
    "print('Here are the entities we have detected:')\n",
    "for ent in doc.ents:\n",
    "    print(ent.label_, ent.text)"
   ]
  },
  {
   "cell_type": "markdown",
   "metadata": {
    "deletable": false,
    "editable": false,
    "nbgrader": {
     "checksum": "954dbf99780d3f683444472ac8265d03",
     "grade": false,
     "grade_id": "cell-596147d39e5f2850",
     "locked": true,
     "schema_version": 1,
     "solution": false
    }
   },
   "source": [
    "2. (2 marks) **Evaluate the results of your model and discuss how your model could be improved.**  \n",
    "To evaluate the model you should discuss what was correctly or incorrectly detected (or missed completely).  \n",
    "There is lots of information throughout this notebook that can help you answer this question.  \n",
    "I'm expecting 1-2 paragraphs in response to this question."
   ]
  },
  {
   "cell_type": "markdown",
   "metadata": {
    "deletable": false,
    "nbgrader": {
     "checksum": "8245986e6c0734e0b644fedf562feaa9",
     "grade": true,
     "grade_id": "LabEx2c-2",
     "locked": false,
     "points": 2,
     "schema_version": 1,
     "solution": true
    }
   },
   "source": [
    "Evaluate the results of my model: My model isn't perfect as it miss out some words which mention name of iwi such as \"Ngāi Tahu\". However, it does detect some of the iwi name which have the same style of training data.\n",
    "\n",
    "How my model could be improved: In my opinion, I think I need to increase the number of training data. Low resource language can't train the model perfectly. If our data set for training is not large and accurate, we can't build the model that have ability to detect language better. Besides, we also need to have a proper knowledge about the topic(for example, in this case, we need to have general knowlege about statistical classification of iwi name. From that, we can collect the correct training dataset."
   ]
  }
 ],
 "metadata": {
  "kernelspec": {
   "display_name": "Python 3",
   "language": "python",
   "name": "python3"
  },
  "language_info": {
   "codemirror_mode": {
    "name": "ipython",
    "version": 3
   },
   "file_extension": ".py",
   "mimetype": "text/x-python",
   "name": "python",
   "nbconvert_exporter": "python",
   "pygments_lexer": "ipython3",
   "version": "3.6.1"
  }
 },
 "nbformat": 4,
 "nbformat_minor": 2
}

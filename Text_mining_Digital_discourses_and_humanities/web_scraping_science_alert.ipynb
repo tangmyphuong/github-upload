{
 "cells": [
  {
   "cell_type": "code",
   "execution_count": 11,
   "metadata": {
    "collapsed": true
   },
   "outputs": [],
   "source": [
    "from bs4 import BeautifulSoup\n",
    "import requests, os, time"
   ]
  },
  {
   "cell_type": "code",
   "execution_count": 12,
   "metadata": {
    "collapsed": true
   },
   "outputs": [],
   "source": [
    "def find_article_urls(page_url):\n",
    "    response = requests.get(page_url).text\n",
    "    soup = BeautifulSoup(response, \"lxml\")\n",
    "    urls = ['http://www.sciencealert.com'+k.find('a')['href'] for k in soup.find_all('div', 'titletext')]\n",
    "    return urls\n",
    "\n",
    "def collect_urls(category, npage):\n",
    "    urls = []\n",
    "    for i in range(npage):\n",
    "        start = 14*i\n",
    "        page_url = 'http://www.sciencealert.com/index.php?'+\\\n",
    "                'option=com_sciencealertfrontpage&'+\\\n",
    "                'view=getarticles&'+\\\n",
    "                'cat_title='+category+'&'+\\\n",
    "                'start='+str(start)+'&'+\\\n",
    "                'tmpl=component'\n",
    "        urls.extend(find_article_urls(page_url))\n",
    "    urls = set(urls) # avoid duplication\n",
    "    return urls\n",
    "\n",
    "def create_folder(rel_path): # create folder with a relative path\n",
    "    if not os.path.exists(rel_path):\n",
    "        os.makedirs(rel_path)\n",
    "        \n",
    "def write_file(path, filename, title, content):\n",
    "    f = open(path+filename+'.txt', 'w',encoding=\"utf-8\")\n",
    "    f.write(title+'\\n\\n\\n'+content)\n",
    "    f.close()"
   ]
  },
  {
   "cell_type": "code",
   "execution_count": 13,
   "metadata": {},
   "outputs": [
    {
     "name": "stdout",
     "output_type": "stream",
     "text": [
      "Total number of collected urls: 60\n",
      "{'http://www.sciencealert.com/a-giant-heat-dome-over-alaska-is-set-to-threaten-all-time-temperature-records', 'http://www.sciencealert.com/tree-planting-is-still-the-best-way-to-fight-climate-change-but-only-if-we-act-fast', 'http://www.sciencealert.com/what-we-don-t-know-about-parasites-could-be-disastrous-for-both-us-and-them', 'http://www.sciencealert.com/an-unexpected-discovery-just-changed-the-ranking-of-earth-s-biggest-volcano', 'http://www.sciencealert.com/how-an-ancient-drop-of-water-is-being-used-to-map-out-the-history-of-earth', 'http://www.sciencealert.com/greenland-ice-sheet-just-poured-197-billion-tons-of-water-to-the-ocean-in-july', 'http://www.sciencealert.com/us-geological-survey-finds-it-s-raining-plastic-in-the-rocky-mountains', 'http://www.sciencealert.com/17-countries-are-facing-extreme-water-stress-and-they-hold-a-quarter-of-the-world-s-population', 'http://www.sciencealert.com/while-we-celebrated-the-moon-landing-we-hit-another-critical-science-anniversary', 'http://www.sciencealert.com/earthquake-mountain-spawned-by-giant-mud-eruption-is-swallowed-by-the-ocean', 'http://www.sciencealert.com/scotland-s-wind-turbines-are-now-generating-double-what-its-residents-need', 'http://www.sciencealert.com/a-record-number-of-reindeer-have-been-found-dead-in-norway-due-to-climate-change', 'http://www.sciencealert.com/in-europe-a-historic-heat-wave-is-shattering-records-with-ease', 'http://www.sciencealert.com/spain-is-so-unbearably-hot-a-pile-of-manure-spontaneously-ignited-a-forest-fire', 'http://www.sciencealert.com/can-you-swim-in-shade-balls-this-youtuber-was-wild-enough-to-try', 'http://www.sciencealert.com/we-just-experienced-by-far-the-hottest-june-ever-recorded', 'http://www.sciencealert.com/the-current-climate-crisis-is-totally-unmatched-by-anything-in-the-last-2-000-years', 'http://www.sciencealert.com/scientists-discover-vast-reservoir-of-fresh-water-hidden-off-the-us-coast', 'http://www.sciencealert.com/there-s-other-ways-to-keep-buildings-cool-without-energy-intensive-air-conditioning', 'http://www.sciencealert.com/a-tectonic-plate-is-breaking-apart-under-oregon-and-its-slow-death-is-fascinating-geologists', 'http://www.sciencealert.com/a-45-day-storm-turned-california-into-a-300-mile-long-sea-and-it-could-happen-again', 'http://www.sciencealert.com/airplane-contrails-are-a-climate-change-factor-we-re-totally-ignoring-scientists-warn', 'http://www.sciencealert.com/how-an-ancient-system-lost-to-time-could-help-water-conservation-in-peru', 'http://www.sciencealert.com/large-parts-of-siberia-could-become-habitable-by-2100-as-the-world-warms-up', 'http://www.sciencealert.com/epic-videos-show-the-july-4-earthquake-rippling-across-north-america', 'http://www.sciencealert.com/we-just-used-up-all-of-earth-s-resources-for-the-year-and-it-s-only-july', 'http://www.sciencealert.com/july-was-likely-the-hottest-month-in-recorded-history-and-experts-say-it-has-re-written-climate-history', 'http://www.sciencealert.com/declassified-spy-photos-help-show-how-quickly-the-himalayan-glaciers-are-melting', 'http://www.sciencealert.com/a-wacky-submarine-designed-to-make-iceberg-babies-won-t-save-the-arctic', 'http://www.sciencealert.com/greenland-s-ice-sheet-will-disappear-over-the-next-1000-years-nasa-model-shows', 'http://www.sciencealert.com/climate-deniers-are-spreading-a-totally-unscientific-paper-that-has-no-basis-in-reality', 'http://www.sciencealert.com/boaty-mcboatface-s-maiden-voyage-just-contributed-to-serious-science', 'http://www.sciencealert.com/unprecedented-wildfires-are-ravaging-the-arctic-and-the-images-from-space-are-astonishing', 'http://www.sciencealert.com/flawless-visualisation-distils-the-true-colour-of-climate-change-everywhere-on-earth', 'http://www.sciencealert.com/watch-this-amazing-video-of-a-giant-squid-emerging-from-the-darkness', 'http://www.sciencealert.com/light-pollution-is-a-huge-problem-and-there-s-few-places-left-in-the-us-without-it', 'http://www.sciencealert.com/this-new-map-combines-decades-of-data-to-reveal-how-ice-flows-from-antarctica-to-the-sea', 'http://www.sciencealert.com/independent-data-confirms-july-was-earth-s-hottest-month-since-records-began', 'http://www.sciencealert.com/origins-of-mysterious-radioactive-cloud-blanketing-europe-finally-pinpointed', 'http://www.sciencealert.com/cigarette-butts-are-our-most-common-trash-and-they-re-harming-plant-growth', 'http://www.sciencealert.com/renewables-exceeded-coal-for-first-time-in-us-history-with-no-noticeable-difference', 'http://www.sciencealert.com/think-it-s-hot-in-europe-in-these-places-the-human-body-is-close-to-its-thermal-limit', 'http://www.sciencealert.com/two-percent-of-the-world-s-north-atlantic-right-whales-have-died-in-the-last-two-months', 'http://www.sciencealert.com/all-it-s-going-to-take-to-save-the-west-antarctic-ice-sheet-is-74-trillion-tons-of-artificial-snow', 'http://www.sciencealert.com/climate-change-is-already-making-air-travel-bumpier', 'http://www.sciencealert.com/greenland-was-40-degrees-hotter-than-normal-this-week-and-things-are-getting-intense', 'http://www.sciencealert.com/distressing-photo-of-a-bird-feeding-its-baby-trash-is-the-wake-up-call-we-all-need', 'http://www.sciencealert.com/something-is-causing-these-stunning-and-rare-night-shining-clouds-to-move-south', 'http://www.sciencealert.com/scientists-just-installed-earth-s-highest-ever-weather-stations-on-mount-everest', 'http://www.sciencealert.com/greenland-s-ice-is-melting-at-a-rate-scientists-weren-t-expecting-for-another-50-years', 'http://www.sciencealert.com/one-in-five-cities-is-about-to-inherit-an-alien-climate-unknown-to-any-city-on-earth', 'http://www.sciencealert.com/scientists-find-a-massive-contributor-to-coral-reef-deaths-and-it-s-easier-to-fix-than-climate-change', 'http://www.sciencealert.com/more-than-50-lakes-were-discovered-lurking-beneath-the-greenland-ice-sheet', 'http://www.sciencealert.com/a-strange-plasticrust-pollution-is-appearing-embedded-on-shoreline-rocks', 'http://www.sciencealert.com/ring-of-fire-pattern-threatens-dangerous-heat-and-storms-warn-us-meteorologists', 'http://www.sciencealert.com/antarctic-glacier-on-track-to-irreversibly-melt-which-could-trigger-a-chain-reaction', 'http://www.sciencealert.com/existing-fossil-fuel-plants-will-push-us-beyond-1-5-degrees-says-research', 'http://www.sciencealert.com/abandoned-ghost-base-is-still-running-all-alone-in-frozen-wilds-of-antarctica', 'http://www.sciencealert.com/meteorologist-warns-of-potentially-devastating-european-heatwave-hell-is-coming', 'http://www.sciencealert.com/the-ipcc-report-is-out-and-it-says-we-need-to-eat-better-but-does-it-really-mean-you'}\n"
     ]
    }
   ],
   "source": [
    "create_folder('text-files')\n",
    "path = 'text-files/'\n",
    "urls = collect_urls('environment', 5) # set category and the number of pages \n",
    "print('Total number of collected urls: {}'.format(len(urls)))\n",
    "print(urls)"
   ]
  },
  {
   "cell_type": "code",
   "execution_count": 14,
   "metadata": {},
   "outputs": [
    {
     "name": "stdout",
     "output_type": "stream",
     "text": [
      "Writing file for url: http://www.sciencealert.com/a-giant-heat-dome-over-alaska-is-set-to-threaten-all-time-temperature-records\n",
      "Writing file for url: http://www.sciencealert.com/tree-planting-is-still-the-best-way-to-fight-climate-change-but-only-if-we-act-fast\n",
      "Writing file for url: http://www.sciencealert.com/what-we-don-t-know-about-parasites-could-be-disastrous-for-both-us-and-them\n",
      "Writing file for url: http://www.sciencealert.com/an-unexpected-discovery-just-changed-the-ranking-of-earth-s-biggest-volcano\n",
      "Writing file for url: http://www.sciencealert.com/how-an-ancient-drop-of-water-is-being-used-to-map-out-the-history-of-earth\n",
      "Writing file for url: http://www.sciencealert.com/greenland-ice-sheet-just-poured-197-billion-tons-of-water-to-the-ocean-in-july\n",
      "Writing file for url: http://www.sciencealert.com/us-geological-survey-finds-it-s-raining-plastic-in-the-rocky-mountains\n",
      "Writing file for url: http://www.sciencealert.com/17-countries-are-facing-extreme-water-stress-and-they-hold-a-quarter-of-the-world-s-population\n",
      "Writing file for url: http://www.sciencealert.com/while-we-celebrated-the-moon-landing-we-hit-another-critical-science-anniversary\n",
      "Writing file for url: http://www.sciencealert.com/earthquake-mountain-spawned-by-giant-mud-eruption-is-swallowed-by-the-ocean\n",
      "Writing file for url: http://www.sciencealert.com/scotland-s-wind-turbines-are-now-generating-double-what-its-residents-need\n",
      "Writing file for url: http://www.sciencealert.com/a-record-number-of-reindeer-have-been-found-dead-in-norway-due-to-climate-change\n",
      "Writing file for url: http://www.sciencealert.com/in-europe-a-historic-heat-wave-is-shattering-records-with-ease\n",
      "Writing file for url: http://www.sciencealert.com/spain-is-so-unbearably-hot-a-pile-of-manure-spontaneously-ignited-a-forest-fire\n",
      "Writing file for url: http://www.sciencealert.com/can-you-swim-in-shade-balls-this-youtuber-was-wild-enough-to-try\n",
      "Writing file for url: http://www.sciencealert.com/we-just-experienced-by-far-the-hottest-june-ever-recorded\n",
      "Writing file for url: http://www.sciencealert.com/the-current-climate-crisis-is-totally-unmatched-by-anything-in-the-last-2-000-years\n",
      "Writing file for url: http://www.sciencealert.com/scientists-discover-vast-reservoir-of-fresh-water-hidden-off-the-us-coast\n",
      "Writing file for url: http://www.sciencealert.com/there-s-other-ways-to-keep-buildings-cool-without-energy-intensive-air-conditioning\n",
      "Writing file for url: http://www.sciencealert.com/a-tectonic-plate-is-breaking-apart-under-oregon-and-its-slow-death-is-fascinating-geologists\n",
      "Writing file for url: http://www.sciencealert.com/a-45-day-storm-turned-california-into-a-300-mile-long-sea-and-it-could-happen-again\n",
      "Writing file for url: http://www.sciencealert.com/airplane-contrails-are-a-climate-change-factor-we-re-totally-ignoring-scientists-warn\n",
      "Writing file for url: http://www.sciencealert.com/how-an-ancient-system-lost-to-time-could-help-water-conservation-in-peru\n",
      "Writing file for url: http://www.sciencealert.com/large-parts-of-siberia-could-become-habitable-by-2100-as-the-world-warms-up\n",
      "Writing file for url: http://www.sciencealert.com/epic-videos-show-the-july-4-earthquake-rippling-across-north-america\n",
      "Writing file for url: http://www.sciencealert.com/we-just-used-up-all-of-earth-s-resources-for-the-year-and-it-s-only-july\n",
      "Writing file for url: http://www.sciencealert.com/july-was-likely-the-hottest-month-in-recorded-history-and-experts-say-it-has-re-written-climate-history\n",
      "Writing file for url: http://www.sciencealert.com/declassified-spy-photos-help-show-how-quickly-the-himalayan-glaciers-are-melting\n",
      "Writing file for url: http://www.sciencealert.com/a-wacky-submarine-designed-to-make-iceberg-babies-won-t-save-the-arctic\n",
      "Writing file for url: http://www.sciencealert.com/greenland-s-ice-sheet-will-disappear-over-the-next-1000-years-nasa-model-shows\n",
      "Writing file for url: http://www.sciencealert.com/climate-deniers-are-spreading-a-totally-unscientific-paper-that-has-no-basis-in-reality\n",
      "Writing file for url: http://www.sciencealert.com/boaty-mcboatface-s-maiden-voyage-just-contributed-to-serious-science\n",
      "Writing file for url: http://www.sciencealert.com/unprecedented-wildfires-are-ravaging-the-arctic-and-the-images-from-space-are-astonishing\n",
      "Writing file for url: http://www.sciencealert.com/flawless-visualisation-distils-the-true-colour-of-climate-change-everywhere-on-earth\n",
      "Writing file for url: http://www.sciencealert.com/watch-this-amazing-video-of-a-giant-squid-emerging-from-the-darkness\n",
      "Writing file for url: http://www.sciencealert.com/light-pollution-is-a-huge-problem-and-there-s-few-places-left-in-the-us-without-it\n",
      "Writing file for url: http://www.sciencealert.com/this-new-map-combines-decades-of-data-to-reveal-how-ice-flows-from-antarctica-to-the-sea\n",
      "Writing file for url: http://www.sciencealert.com/independent-data-confirms-july-was-earth-s-hottest-month-since-records-began\n",
      "Writing file for url: http://www.sciencealert.com/origins-of-mysterious-radioactive-cloud-blanketing-europe-finally-pinpointed\n",
      "Writing file for url: http://www.sciencealert.com/cigarette-butts-are-our-most-common-trash-and-they-re-harming-plant-growth\n",
      "Writing file for url: http://www.sciencealert.com/renewables-exceeded-coal-for-first-time-in-us-history-with-no-noticeable-difference\n",
      "Writing file for url: http://www.sciencealert.com/think-it-s-hot-in-europe-in-these-places-the-human-body-is-close-to-its-thermal-limit\n",
      "Writing file for url: http://www.sciencealert.com/two-percent-of-the-world-s-north-atlantic-right-whales-have-died-in-the-last-two-months\n",
      "Writing file for url: http://www.sciencealert.com/all-it-s-going-to-take-to-save-the-west-antarctic-ice-sheet-is-74-trillion-tons-of-artificial-snow\n",
      "Writing file for url: http://www.sciencealert.com/climate-change-is-already-making-air-travel-bumpier\n",
      "Writing file for url: http://www.sciencealert.com/greenland-was-40-degrees-hotter-than-normal-this-week-and-things-are-getting-intense\n",
      "Writing file for url: http://www.sciencealert.com/distressing-photo-of-a-bird-feeding-its-baby-trash-is-the-wake-up-call-we-all-need\n",
      "Writing file for url: http://www.sciencealert.com/something-is-causing-these-stunning-and-rare-night-shining-clouds-to-move-south\n",
      "Writing file for url: http://www.sciencealert.com/scientists-just-installed-earth-s-highest-ever-weather-stations-on-mount-everest\n",
      "Writing file for url: http://www.sciencealert.com/greenland-s-ice-is-melting-at-a-rate-scientists-weren-t-expecting-for-another-50-years\n",
      "Writing file for url: http://www.sciencealert.com/one-in-five-cities-is-about-to-inherit-an-alien-climate-unknown-to-any-city-on-earth\n",
      "Writing file for url: http://www.sciencealert.com/scientists-find-a-massive-contributor-to-coral-reef-deaths-and-it-s-easier-to-fix-than-climate-change\n",
      "Writing file for url: http://www.sciencealert.com/more-than-50-lakes-were-discovered-lurking-beneath-the-greenland-ice-sheet\n",
      "Writing file for url: http://www.sciencealert.com/a-strange-plasticrust-pollution-is-appearing-embedded-on-shoreline-rocks\n",
      "Writing file for url: http://www.sciencealert.com/ring-of-fire-pattern-threatens-dangerous-heat-and-storms-warn-us-meteorologists\n",
      "Writing file for url: http://www.sciencealert.com/antarctic-glacier-on-track-to-irreversibly-melt-which-could-trigger-a-chain-reaction\n",
      "Writing file for url: http://www.sciencealert.com/existing-fossil-fuel-plants-will-push-us-beyond-1-5-degrees-says-research\n",
      "Writing file for url: http://www.sciencealert.com/abandoned-ghost-base-is-still-running-all-alone-in-frozen-wilds-of-antarctica\n",
      "Writing file for url: http://www.sciencealert.com/meteorologist-warns-of-potentially-devastating-european-heatwave-hell-is-coming\n",
      "Writing file for url: http://www.sciencealert.com/the-ipcc-report-is-out-and-it-says-we-need-to-eat-better-but-does-it-really-mean-you\n"
     ]
    }
   ],
   "source": [
    "for url in urls:\n",
    "    response = requests.get(url).text\n",
    "    soup = BeautifulSoup(response, \"lxml\")\n",
    "    filename = url.replace('http://www.sciencealert.com/', 'sciencealert-com-')\n",
    "    title = soup.find('div', 'article-title').text\n",
    "    content = \"\".join([p.get_text() for p in soup.find('div', 'article-fulltext').find_all('p')])\n",
    "    print('Writing file for url: {}'.format(url))\n",
    "    write_file(path, filename, title, content)\n",
    "    time.sleep(1) # avoid being blocked"
   ]
  }
 ],
 "metadata": {
  "kernelspec": {
   "display_name": "Python 3",
   "language": "python",
   "name": "python3"
  },
  "language_info": {
   "codemirror_mode": {
    "name": "ipython",
    "version": 3
   },
   "file_extension": ".py",
   "mimetype": "text/x-python",
   "name": "python",
   "nbconvert_exporter": "python",
   "pygments_lexer": "ipython3",
   "version": "3.6.1"
  }
 },
 "nbformat": 4,
 "nbformat_minor": 2
}

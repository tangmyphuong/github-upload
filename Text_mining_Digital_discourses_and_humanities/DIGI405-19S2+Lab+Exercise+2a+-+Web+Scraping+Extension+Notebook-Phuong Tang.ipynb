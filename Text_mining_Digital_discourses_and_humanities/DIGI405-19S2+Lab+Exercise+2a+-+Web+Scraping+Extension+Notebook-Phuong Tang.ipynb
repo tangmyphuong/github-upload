{
 "cells": [
  {
   "cell_type": "markdown",
   "metadata": {
    "deletable": false,
    "editable": false,
    "nbgrader": {
     "checksum": "7b5b5059b84026c152643013dc1882cc",
     "grade": false,
     "grade_id": "cell-032cac90e23b160d",
     "locked": true,
     "schema_version": 1,
     "solution": false
    }
   },
   "source": [
    "# DIGI405-19S2 Lab Exercise 2a: Web Scraping Extension Notebook\n",
    "\n",
    "## Preparing for this lab exercise\n",
    "\n",
    "This task will get you to practice scraping part of a website using Python, BeautifulSoup and CSS selectors. The lecture, lab and readings in week four are relevant in preparing for this task.\n",
    "\n",
    "You will be asked to scrape content from a site specifically setup for this task: [Scraping Garden Party](https://ucdh.github.io/scraping-garden-party/). Take a look at the website before you commence the tasks below.\n",
    "\n",
    "\n",
    "## Lab exercise instructions"
   ]
  },
  {
   "cell_type": "markdown",
   "metadata": {
    "deletable": false,
    "editable": false,
    "nbgrader": {
     "checksum": "943d92a151561d7cd91d0e76e566789e",
     "grade": false,
     "grade_id": "cell-6264d0115ba13bad",
     "locked": true,
     "schema_version": 1,
     "solution": false
    }
   },
   "source": [
    "**Type your name:**"
   ]
  },
  {
   "cell_type": "markdown",
   "metadata": {
    "deletable": false,
    "nbgrader": {
     "checksum": "2b96dbb4b77f230703a91455eb809316",
     "grade": true,
     "grade_id": "LabEx2a-Name",
     "locked": false,
     "points": 0,
     "schema_version": 1,
     "solution": true
    }
   },
   "source": [
    "TANG MY PHUONG"
   ]
  },
  {
   "cell_type": "markdown",
   "metadata": {
    "deletable": false,
    "editable": false,
    "nbgrader": {
     "checksum": "5def7803a94518e08da963cd0ae81ddf",
     "grade": false,
     "grade_id": "cell-d284088e447f2fed",
     "locked": true,
     "schema_version": 1,
     "solution": false
    }
   },
   "source": [
    "**Type your Student ID number:**"
   ]
  },
  {
   "cell_type": "markdown",
   "metadata": {
    "deletable": false,
    "nbgrader": {
     "checksum": "1f63f7e9a562e1fcdf77c06388b12478",
     "grade": true,
     "grade_id": "LabEx2a-StudentID",
     "locked": false,
     "points": 0,
     "schema_version": 1,
     "solution": true
    }
   },
   "source": [
    "23186540"
   ]
  },
  {
   "cell_type": "markdown",
   "metadata": {
    "deletable": false,
    "editable": false,
    "nbgrader": {
     "checksum": "a6415bc5f93e2b58e4fa3db93b2165fd",
     "grade": false,
     "grade_id": "cell-ffc2a0bca5513249",
     "locked": true,
     "schema_version": 1,
     "solution": false
    }
   },
   "source": [
    "We are expecting you to use the Requests and BeautifulSoup python libraries. The time library is also included and will be explained when you need to use it below. Run the next cell to import them."
   ]
  },
  {
   "cell_type": "code",
   "execution_count": 4,
   "metadata": {
    "collapsed": true,
    "deletable": false,
    "editable": false,
    "nbgrader": {
     "checksum": "bfbae98f2fc02dbc000576b21249846a",
     "grade": false,
     "grade_id": "cell-a893dad51f88e2d0",
     "locked": true,
     "schema_version": 1,
     "solution": false
    }
   },
   "outputs": [],
   "source": [
    "import requests\n",
    "from bs4 import BeautifulSoup\n",
    "import time"
   ]
  },
  {
   "cell_type": "markdown",
   "metadata": {
    "deletable": false,
    "editable": false,
    "nbgrader": {
     "checksum": "333f7c96143d76115f893ae691053bc4",
     "grade": false,
     "grade_id": "cell-51f01348020abe2a",
     "locked": true,
     "schema_version": 1,
     "solution": false
    }
   },
   "source": [
    "1. (1 mark) **Using the requests library request the page https://ucdh.github.io/scraping-garden-party/ and use a CSS selector and BeautifulSoup's .select() filter to print the URL for each of the 15 pages containing short stories.**  \n",
    "\n",
    "Note: your code should include a line like this in the for loop so you can print out the full URL of each short story page:  \n",
    "```url = 'https://ucdh.github.io' + link['href']```"
   ]
  },
  {
   "cell_type": "code",
   "execution_count": 8,
   "metadata": {
    "deletable": false,
    "nbgrader": {
     "checksum": "ff720329ac9f64346550267c25c34e10",
     "grade": true,
     "grade_id": "LabEx2a-1",
     "locked": false,
     "points": 1,
     "schema_version": 1,
     "solution": true
    }
   },
   "outputs": [
    {
     "name": "stdout",
     "output_type": "stream",
     "text": [
      "https://ucdh.github.io/scraping-garden-party/at-the-bay.html\n",
      "https://ucdh.github.io/scraping-garden-party/the-garden-party.html\n",
      "https://ucdh.github.io/scraping-garden-party/daughters-late-colonel.html\n",
      "https://ucdh.github.io/scraping-garden-party/mr-and-mrs-dove.html\n",
      "https://ucdh.github.io/scraping-garden-party/the-young-girl.html\n",
      "https://ucdh.github.io/scraping-garden-party/life-of-ma-parker.html\n",
      "https://ucdh.github.io/scraping-garden-party/marriage-a-la-mode.html\n",
      "https://ucdh.github.io/scraping-garden-party/the-voyage.html\n",
      "https://ucdh.github.io/scraping-garden-party/miss-brill.html\n",
      "https://ucdh.github.io/scraping-garden-party/her-first-ball.html\n",
      "https://ucdh.github.io/scraping-garden-party/the-singing-lesson.html\n",
      "https://ucdh.github.io/scraping-garden-party/the-stranger.html\n",
      "https://ucdh.github.io/scraping-garden-party/bank-holiday.html\n",
      "https://ucdh.github.io/scraping-garden-party/an-ideal-family.html\n",
      "https://ucdh.github.io/scraping-garden-party/the-lady-s-maid.html\n"
     ]
    }
   ],
   "source": [
    "url = 'https://ucdh.github.io/scraping-garden-party/'\n",
    "# make the request and assign the result to a variable 'response'\n",
    "response = requests.get(url)\n",
    "\n",
    "from bs4 import BeautifulSoup\n",
    "soup = BeautifulSoup(response.text, 'html.parser')\n",
    "\n",
    "stories = soup.select('li') # this is elegant and flexible!\n",
    "\n",
    "for story in stories:\n",
    "    link = story.a\n",
    "    url_story = 'https://ucdh.github.io'+ link['href']\n",
    "    print(url_story)\n"
   ]
  },
  {
   "cell_type": "markdown",
   "metadata": {
    "deletable": false,
    "editable": false,
    "nbgrader": {
     "checksum": "248301fef0ed6475528e272cc4d03f30",
     "grade": false,
     "grade_id": "cell-2775bbb3862e0a6b",
     "locked": true,
     "schema_version": 1,
     "solution": false
    }
   },
   "source": [
    "2. (2 marks) **Adapt your code for the previous task to loop through the links to each of the 15 pages containing short stories, and:**  \n",
    "    * print out the full URL of each short story page (hint: see the previous task!)  \n",
    "    * retrieve the HTML of each short story page  \n",
    "    * print out the text of the introductory section of each short story page.   \n",
    "    \n",
    "Note: there are two things you should know to complete this task:\n",
    "\n",
    "Firstly, there is a CSS class (`introductory-section`) for the text that we want you to print out on each short story page (inspect the page HTML source to see where this class is used). \n",
    "\n",
    "Secondly, to ensure you are not requesting pages too quickly, please include the following line in your loop to make your code wait 2 seconds between requests:  \n",
    "```time.sleep(2)```"
   ]
  },
  {
   "cell_type": "code",
   "execution_count": 11,
   "metadata": {
    "deletable": false,
    "nbgrader": {
     "checksum": "0bd0a34b81c6ecf14cf0388e30175edc",
     "grade": true,
     "grade_id": "LabEx2a-2",
     "locked": false,
     "points": 2,
     "schema_version": 1,
     "solution": true
    }
   },
   "outputs": [
    {
     "name": "stdout",
     "output_type": "stream",
     "text": [
      "https://ucdh.github.io/scraping-garden-party/at-the-bay.html\n",
      "Very early morning. The sun was not yet risen, and the whole of\n",
      "Crescent Bay was hidden under a white sea-mist. The big bush-covered\n",
      "hills at the back were smothered. You could not see where they ended\n",
      "and the paddocks and bungalows began. The sandy road was gone and the\n",
      "paddocks and bungalows the other side of it; there were no white dunes\n",
      "covered with reddish grass beyond them; there was nothing to mark which\n",
      "was beach and where was the sea. A heavy dew had fallen. The grass was\n",
      "blue. Big drops hung on the bushes and just did not fall; the silvery,\n",
      "fluffy toi-toi was limp on its long stalks, and all the marigolds and\n",
      "the pinks in the bungalow gardens were bowed to the earth with wetness.\n",
      "Drenched were the cold fuchsias, round pearls of dew lay on the flat\n",
      "nasturtium leaves. It looked as though the sea had beaten up softly in\n",
      "the darkness, as though one immense wave had come rippling,\n",
      "rippling—how far? Perhaps if you had waked up in the middle of the\n",
      "night you might have seen a big fish flicking in at the window and gone\n",
      "again....\n",
      "https://ucdh.github.io/scraping-garden-party/the-garden-party.html\n",
      "And after all the weather was ideal. They could not have had a more\n",
      "perfect day for a garden-party if they had ordered it. Windless, warm,\n",
      "the sky without a cloud. Only the blue was veiled with a haze of light\n",
      "gold, as it is sometimes in early summer. The gardener had been up\n",
      "since dawn, mowing the lawns and sweeping them, until the grass and the\n",
      "dark flat rosettes where the daisy plants had been seemed to shine. As\n",
      "for the roses, you could not help feeling they understood that roses\n",
      "are the only flowers that impress people at garden-parties; the only\n",
      "flowers that everybody is certain of knowing. Hundreds, yes, literally\n",
      "hundreds, had come out in a single night; the green bushes bowed down\n",
      "as though they had been visited by archangels.\n",
      "https://ucdh.github.io/scraping-garden-party/daughters-late-colonel.html\n",
      "The week after was one of the busiest weeks of their lives. Even when\n",
      "they went to bed it was only their bodies that lay down and rested;\n",
      "their minds went on, thinking things out, talking things over,\n",
      "wondering, deciding, trying to remember where....\n",
      "https://ucdh.github.io/scraping-garden-party/mr-and-mrs-dove.html\n",
      "Of course he knew—no man better—that he hadn’t a ghost of a chance, he\n",
      "hadn’t an earthly. The very idea of such a thing was preposterous. So\n",
      "preposterous that he’d perfectly understand it if her father—well,\n",
      "whatever her father chose to do he’d perfectly understand. In fact,\n",
      "nothing short of desperation, nothing short of the fact that this was\n",
      "positively his last day in England for God knows how long, would have\n",
      "screwed him up to it. And even now.... He chose a tie out of the chest\n",
      "of drawers, a blue and cream check tie, and sat on the side of his bed.\n",
      "Supposing she replied, “What impertinence!” would he be surprised? Not\n",
      "in the least, he decided, turning up his soft collar and turning it\n",
      "down over the tie. He expected her to say something like that. He\n",
      "didn’t see, if he looked at the affair dead soberly, what else she\n",
      "could say.\n",
      "https://ucdh.github.io/scraping-garden-party/the-young-girl.html\n",
      "In her blue dress, with her cheeks lightly flushed, her blue, blue\n",
      "eyes, and her gold curls pinned up as though for the first time—pinned\n",
      "up to be out of the way for her flight—Mrs. Raddick’s daughter might\n",
      "have just dropped from this radiant heaven. Mrs. Raddick’s timid,\n",
      "faintly astonished, but deeply admiring glance looked as if she\n",
      "believed it, too; but the daughter didn’t appear any too pleased—why\n",
      "should she?—to have alighted on the steps of the Casino. Indeed, she\n",
      "was bored—bored as though Heaven had been full of casinos with snuffy\n",
      "old saints for _croupiers_ and crowns to play with.\n",
      "https://ucdh.github.io/scraping-garden-party/life-of-ma-parker.html\n",
      "When the literary gentleman, whose flat old Ma Parker cleaned every\n",
      "Tuesday, opened the door to her that morning, he asked after her\n",
      "grandson. Ma Parker stood on the doormat inside the dark little hall,\n",
      "and she stretched out her hand to help her gentleman shut the door\n",
      "before she replied. “We buried ’im yesterday, sir,” she said quietly.\n",
      "https://ucdh.github.io/scraping-garden-party/marriage-a-la-mode.html\n",
      "On his way to the station William remembered with a fresh pang of\n",
      "disappointment that he was taking nothing down to the kiddies. Poor\n",
      "little chaps! It was hard lines on them. Their first words always were\n",
      "as they ran to greet him, “What have you got for me, daddy?” and he had\n",
      "nothing. He would have to buy them some sweets at the station. But that\n",
      "was what he had done for the past four Saturdays; their faces had\n",
      "fallen last time when they saw the same old boxes produced again.\n",
      "https://ucdh.github.io/scraping-garden-party/the-voyage.html\n",
      "The Picton boat was due to leave at half-past eleven. It was a\n",
      "beautiful night, mild, starry, only when they got out of the cab and\n",
      "started to walk down the Old Wharf that jutted out into the harbour, a\n",
      "faint wind blowing off the water ruffled under Fenella’s hat, and she\n",
      "put up her hand to keep it on. It was dark on the Old Wharf, very dark;\n",
      "the wool sheds, the cattle trucks, the cranes standing up so high, the\n",
      "little squat railway engine, all seemed carved out of solid darkness.\n",
      "Here and there on a rounded wood-pile, that was like the stalk of a\n",
      "huge black mushroom, there hung a lantern, but it seemed afraid to\n",
      "unfurl its timid, quivering light in all that blackness; it burned\n",
      "softly, as if for itself.\n",
      "https://ucdh.github.io/scraping-garden-party/miss-brill.html\n",
      "Although it was so brilliantly fine—the blue sky powdered with gold and\n",
      "great spots of light like white wine splashed over the Jardins\n",
      "Publiques—Miss Brill was glad that she had decided on her fur. The air\n",
      "was motionless, but when you opened your mouth there was just a faint\n",
      "chill, like a chill from a glass of iced water before you sip, and now\n",
      "and again a leaf came drifting—from nowhere, from the sky. Miss Brill\n",
      "put up her hand and touched her fur. Dear little thing! It was nice to\n",
      "feel it again. She had taken it out of its box that afternoon, shaken\n",
      "out the moth-powder, given it a good brush, and rubbed the life back\n",
      "into the dim little eyes. “What has been happening to me?” said the sad\n",
      "little eyes. Oh, how sweet it was to see them snap at her again from\n",
      "the red eiderdown!... But the nose, which was of some black\n",
      "composition, wasn’t at all firm. It must have had a knock, somehow.\n",
      "Never mind—a little dab of black sealing-wax when the time came—when it\n",
      "was absolutely necessary.... Little rogue! Yes, she really felt like\n",
      "that about it. Little rogue biting its tail just by her left ear. She\n",
      "could have taken it off and laid it on her lap and stroked it. She felt\n",
      "a tingling in her hands and arms, but that came from walking, she\n",
      "supposed. And when she breathed, something light and sad—no, not sad,\n",
      "exactly—something gentle seemed to move in her bosom.\n",
      "https://ucdh.github.io/scraping-garden-party/her-first-ball.html\n",
      "Exactly when the ball began Leila would have found it hard to say.\n",
      "Perhaps her first real partner was the cab. It did not matter that she\n",
      "shared the cab with the Sheridan girls and their brother. She sat back\n",
      "in her own little corner of it, and the bolster on which her hand\n",
      "rested felt like the sleeve of an unknown young man’s dress suit; and\n",
      "away they bowled, past waltzing lamp-posts and houses and fences and\n",
      "trees.\n",
      "https://ucdh.github.io/scraping-garden-party/the-singing-lesson.html\n",
      "With despair—cold, sharp despair—buried deep in her heart like a wicked\n",
      "knife, Miss Meadows, in cap and gown and carrying a little baton, trod\n",
      "the cold corridors that led to the music hall. Girls of all ages, rosy\n",
      "from the air, and bubbling over with that gleeful excitement that comes\n",
      "from running to school on a fine autumn morning, hurried, skipped,\n",
      "fluttered by; from the hollow class-rooms came a quick drumming of\n",
      "voices; a bell rang; a voice like a bird cried, “Muriel.” And then\n",
      "there came from the staircase a tremendous knock-knock-knocking. Some\n",
      "one had dropped her dumbbells.\n",
      "https://ucdh.github.io/scraping-garden-party/the-stranger.html\n",
      "It seemed to the little crowd on the wharf that she was never going to\n",
      "move again. There she lay, immense, motionless on the grey crinkled\n",
      "water, a loop of smoke above her, an immense flock of gulls screaming\n",
      "and diving after the galley droppings at the stern. You could just see\n",
      "little couples parading—little flies walking up and down the dish on\n",
      "the grey crinkled tablecloth. Other flies clustered and swarmed at the\n",
      "edge. Now there was a gleam of white on the lower deck—the cook’s apron\n",
      "or the stewardess perhaps. Now a tiny black spider raced up the ladder\n",
      "on to the bridge.\n"
     ]
    },
    {
     "name": "stdout",
     "output_type": "stream",
     "text": [
      "https://ucdh.github.io/scraping-garden-party/bank-holiday.html\n",
      "A stout man with a pink face wears dingy white flannel trousers, a blue\n",
      "coat with a pink handkerchief showing, and a straw hat much too small\n",
      "for him, perched at the back of his head. He plays the guitar. A little\n",
      "chap in white canvas shoes, his face hidden under a felt hat like a\n",
      "broken wing, breathes into a flute; and a tall thin fellow, with\n",
      "bursting over-ripe button boots, draws ribbons—long, twisted, streaming\n",
      "ribbons—of tune out of a fiddle. They stand, unsmiling, but not\n",
      "serious, in the broad sunlight opposite the fruit-shop; the pink spider\n",
      "of a hand beats the guitar, the little squat hand, with a\n",
      "brass-and-turquoise ring, forces the reluctant flute, and the fiddler’s\n",
      "arm tries to saw the fiddle in two.\n",
      "https://ucdh.github.io/scraping-garden-party/an-ideal-family.html\n",
      "That evening for the first time in his life, as he pressed through the\n",
      "swing door and descended the three broad steps to the pavement, old Mr.\n",
      "Neave felt he was too old for the spring. Spring—warm, eager,\n",
      "restless—was there, waiting for him in the golden light, ready in front\n",
      "of everybody to run up, to blow in his white beard, to drag sweetly on\n",
      "his arm. And he couldn’t meet her, no; he couldn’t square up once more\n",
      "and stride off, jaunty as a young man. He was tired and, although the\n",
      "late sun was still shining, curiously cold, with a numbed feeling all\n",
      "over. Quite suddenly he hadn’t the energy, he hadn’t the heart to stand\n",
      "this gaiety and bright movement any longer; it confused him. He wanted\n",
      "to stand still, to wave it away with his stick, to say, “Be off with\n",
      "you!” Suddenly it was a terrible effort to greet as usual—tipping his\n",
      "wide-awake with his stick—all the people whom he knew, the friends,\n",
      "acquaintances, shopkeepers, postmen, drivers. But the gay glance that\n",
      "went with the gesture, the kindly twinkle that seemed to say, “I’m a\n",
      "match and more for any of you”—that old Mr. Neave could not manage at\n",
      "all. He stumped along, lifting his knees high as if he were walking\n",
      "through air that had somehow grown heavy and solid like water. And the\n",
      "homeward-looking crowd hurried by, the trams clanked, the light carts\n",
      "clattered, the big swinging cabs bowled along with that reckless,\n",
      "defiant indifference that one knows only in dreams....\n",
      "https://ucdh.github.io/scraping-garden-party/the-lady-s-maid.html\n",
      "... I hope I haven’t disturbed you, madam. You weren’t asleep—were you?\n",
      "But I’ve just given my lady her tea, and there was such a nice cup\n",
      "over, I thought, perhaps....\n"
     ]
    }
   ],
   "source": [
    "# print out the full URL of each short story page (hint: see the previous task!)\n",
    "url = 'https://ucdh.github.io/scraping-garden-party/'\n",
    "response = requests.get(url)\n",
    "\n",
    "from bs4 import BeautifulSoup\n",
    "soup = BeautifulSoup(response.text, 'html.parser')\n",
    "\n",
    "stories = soup.select('li') \n",
    "\n",
    "for story in stories:\n",
    "    link = story.a\n",
    "    url_story = 'https://ucdh.github.io'+ link['href']\n",
    "    print(url_story)\n",
    "    html_story = requests.get(url_story) # retrieve the HTML of each short story page\n",
    "    soup_story = BeautifulSoup(html_story.text, \"html.parser\")\n",
    "    introductions = soup_story.select('p.introductory-section')\n",
    "    for introduction in introductions:\n",
    "        print(introduction.get_text().strip()) # print out the text of the introductory section of each short story page.\n",
    "    time.sleep(2)\n",
    "\n",
    "    \n",
    "    "
   ]
  },
  {
   "cell_type": "code",
   "execution_count": null,
   "metadata": {
    "collapsed": true
   },
   "outputs": [],
   "source": [
    " "
   ]
  }
 ],
 "metadata": {
  "kernelspec": {
   "display_name": "Python 3",
   "language": "python",
   "name": "python3"
  },
  "language_info": {
   "codemirror_mode": {
    "name": "ipython",
    "version": 3
   },
   "file_extension": ".py",
   "mimetype": "text/x-python",
   "name": "python",
   "nbconvert_exporter": "python",
   "pygments_lexer": "ipython3",
   "version": "3.6.1"
  }
 },
 "nbformat": 4,
 "nbformat_minor": 2
}

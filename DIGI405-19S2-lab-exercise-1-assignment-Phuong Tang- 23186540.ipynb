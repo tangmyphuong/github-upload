{
 "cells": [
  {
   "cell_type": "markdown",
   "metadata": {
    "deletable": false,
    "editable": false,
    "nbgrader": {
     "checksum": "450935ba1fbb75c7d2073478b7bf8fed",
     "grade": false,
     "grade_id": "cell-274a586c326b7cd6",
     "locked": true,
     "schema_version": 1,
     "solution": false
    }
   },
   "source": [
    "# DIGI405-19S2 Lab Exercise 1: Working with corpus evidence\n",
    "## Preparing for this lab exercise\n",
    "This task will get you to practice concordancing a word, finding patterns within the concordance, and writing about these patterns using corpus evidence. These are crucial skills in corpus analysis. You will be required to use these skills in your corpus analysis essay and other assessments. \n",
    "* The lectures and labs in weeks two and three are relevant in preparing for this task. Chapter 4 in the textbook for the course covers concordance analysis in detail. On pages 92-93 in the textbook there is a step-by-step guide to concordance analysis.\n",
    "* Although we are working with a notebook in a web browser, you are still expected to proof your answers for grammar and spelling errors. \n",
    "* Download the Clinton-Trump Corpus:  \n",
    "  Brown, D. W. (2017) Clinton-Trump Corpus. Retrieved from http://www.thegrammarlab.com/?nor-portfolio=corpus-of-presidential-speeches-cops-and-a-clintontrump-corpus.  \n",
    "  The Clinton-Trump Corpus consists of speeches by Hillary Clinton and Donald Trump at events during the 2016 US presidential election campaign. The speeches for each speaker are stored in two separate directories. The page where you download the corpus also includes notes on settings to work with the corpus files in AntConc (i.e. how to enable the \"Hide Tags\" feature).\n",
    "* You can include images (e.g. a screenshot of relevant concordance results from AntConc), but these must be appropriately captioned.\n",
    "* Once you have completed this lab exercise you should submit your notebook on Learn.\n",
    "\n",
    "## Lab exercise instructions"
   ]
  },
  {
   "cell_type": "markdown",
   "metadata": {
    "deletable": false,
    "editable": false,
    "nbgrader": {
     "checksum": "6f1ff580cfe1dfb54461d8c9dd4aefc8",
     "grade": false,
     "grade_id": "cell-289bf010ef948238",
     "locked": true,
     "schema_version": 1,
     "solution": false
    }
   },
   "source": [
    "**Type your name:**"
   ]
  },
  {
   "cell_type": "markdown",
   "metadata": {
    "deletable": false,
    "nbgrader": {
     "checksum": "424da29ca1da039e50c566af0a15cf2a",
     "grade": true,
     "grade_id": "LabEx1-Name",
     "locked": false,
     "points": 0,
     "schema_version": 1,
     "solution": true
    }
   },
   "source": [
    "PHUONG MY TANG"
   ]
  },
  {
   "cell_type": "markdown",
   "metadata": {
    "deletable": false,
    "editable": false,
    "nbgrader": {
     "checksum": "9b525d1ff17c2f9f1857bd8f485f7dbd",
     "grade": false,
     "grade_id": "cell-1aa9a02073607015",
     "locked": true,
     "schema_version": 1,
     "solution": false
    }
   },
   "source": [
    "**Type your Student ID number:**"
   ]
  },
  {
   "cell_type": "markdown",
   "metadata": {
    "deletable": false,
    "nbgrader": {
     "checksum": "055ef4de49c1961a7e80e4894103929d",
     "grade": true,
     "grade_id": "LabEx1-StudentID",
     "locked": false,
     "points": 0,
     "schema_version": 1,
     "solution": true
    }
   },
   "source": [
    "23186540"
   ]
  },
  {
   "cell_type": "markdown",
   "metadata": {
    "deletable": false,
    "editable": false,
    "nbgrader": {
     "checksum": "4afaee90aa35a313c516cf8cc74dc483",
     "grade": false,
     "grade_id": "cell-f04c0ac8a01f43b8",
     "locked": true,
     "schema_version": 1,
     "solution": false
    }
   },
   "source": [
    "1.\t**Load one directory of speeches (Clinton or Trump) into AntConc. Create a concordance of the word “people” and identify a distinct pattern of usage. Write one sentence that describes the pattern.** (1 mark)  \n",
    "    NOTE: you must clearly identify whether you are analysing speeches from the Trump or Clinton directory."
   ]
  },
  {
   "cell_type": "markdown",
   "metadata": {
    "deletable": false,
    "nbgrader": {
     "checksum": "249cfe3acebdd5514243154003fdeed5",
     "grade": true,
     "grade_id": "LabEx1-1",
     "locked": false,
     "points": 1,
     "schema_version": 1,
     "solution": true
    }
   },
   "source": [
    "In Clinton's speeches, people are describe as \"together\" and \"our people\", this means that she want to mention all kinds Americans, not one type, all types in her speeches."
   ]
  },
  {
   "cell_type": "markdown",
   "metadata": {
    "deletable": false,
    "editable": false,
    "nbgrader": {
     "checksum": "081de422c5167c87fd41da18db36c43d",
     "grade": false,
     "grade_id": "cell-249d1ef30785b333",
     "locked": true,
     "schema_version": 1,
     "solution": false
    }
   },
   "source": [
    "2.\t**Write one or two sentences to discuss evidence from the concordance to back up your claim about the pattern you identified in question 1.** (1 mark)  "
   ]
  },
  {
   "cell_type": "markdown",
   "metadata": {
    "deletable": false,
    "nbgrader": {
     "checksum": "96cba63f021b2045484f9b512d986ebd",
     "grade": true,
     "grade_id": "LabEx1-2",
     "locked": false,
     "points": 1,
     "schema_version": 1,
     "solution": true
    }
   },
   "source": [
    "When we sort alphabetically 1 place to the left and 1 place to the right, we can see that the word \"people\" come along with the word \"together\" (from line 72 to line 81) to show that she want \"bring people together\" to set big goals and deliver the results. A lot of speeches showed that she used the word \"American people\" (from line 13 to line 36) or \"our people\" (from line 394 to line 405), never distinguish different types of Americans."
   ]
  },
  {
   "cell_type": "markdown",
   "metadata": {
    "deletable": false,
    "editable": false,
    "nbgrader": {
     "checksum": "a7f739f0a5dd67323fdd9c29d14dfdc4",
     "grade": false,
     "grade_id": "cell-186b289e1adb992a",
     "locked": true,
     "schema_version": 1,
     "solution": false
    }
   },
   "source": [
    "3.\t**Quote two examples of the pattern you found. Put the file name in brackets so we can check this.** (1 mark)"
   ]
  },
  {
   "cell_type": "markdown",
   "metadata": {
    "deletable": false,
    "nbgrader": {
     "checksum": "ccc047d3aa55aba41744f5aa8236e35d",
     "grade": true,
     "grade_id": "LabEx1-3",
     "locked": false,
     "points": 1,
     "schema_version": 1,
     "solution": true
    }
   },
   "source": [
    "Example 1: \"I want us to bring people together just the way unions do\" (File name \"Clinton_2016-09-05-B.txt\")\n",
    "Example 2: \"That's the kind of commander in chief I will be, someone who will bring us together in common purpose to keep our people safe and our country strong.\" (File name \"Clinton_2016-09-08-A.txt\")"
   ]
  },
  {
   "cell_type": "markdown",
   "metadata": {
    "deletable": false,
    "editable": false,
    "nbgrader": {
     "checksum": "f0a421565c061498d9a83a825a57b0f8",
     "grade": false,
     "grade_id": "cell-7e99d846e9edc1e7",
     "locked": true,
     "schema_version": 1,
     "solution": false
    }
   },
   "source": [
    "4.\t**Briefly explain why “people” is being used by the speaker in the way you have described.** (1 mark)   \n",
    "Think about what the speaker is trying to do in the way they are using “people”. It may be useful to examine whether the other speaker uses this pattern or not."
   ]
  },
  {
   "cell_type": "markdown",
   "metadata": {
    "deletable": false,
    "nbgrader": {
     "checksum": "29833482d64eeb3fa76ba880b8f9991a",
     "grade": true,
     "grade_id": "LabEx1-4",
     "locked": false,
     "points": 1,
     "schema_version": 1,
     "solution": true
    }
   },
   "source": [
    "The speaker is trying to make people who listen to her speech feel connected and there is no discrimination between ethnic origins. This style of delivering speeches is different with Trump, who use some words like \"tremendous people\",\"greatest people\", \"stupid people\", \"incompetent people\" in his speeches."
   ]
  },
  {
   "cell_type": "markdown",
   "metadata": {
    "deletable": false,
    "editable": false,
    "nbgrader": {
     "checksum": "87b9dd4d9775542626cb0fd1a48571e6",
     "grade": false,
     "grade_id": "cell-6803c0a568495f42",
     "locked": true,
     "schema_version": 1,
     "solution": false
    }
   },
   "source": [
    "5.\t**Take your answers from questions 1 to 4 and craft one paragraph that identifies, illustrates and explains a distinct pattern of meaning using concordance evidence.** (2 marks)  \n",
    "Note: you do not need to do any new analysis. The tasks is purely to encourage you to craft your answers into a coherent paragraph. You will be penalised for writing more than one paragraph or for simply pasting your answers from 1 to 4 exactly as you have provided them."
   ]
  },
  {
   "cell_type": "markdown",
   "metadata": {
    "deletable": false,
    "nbgrader": {
     "checksum": "dfc3a7ef1cb8418e503bfe004a264d5f",
     "grade": true,
     "grade_id": "LabEx1-5",
     "locked": false,
     "points": 2,
     "schema_version": 1,
     "solution": true
    }
   },
   "source": [
    "Using concordance evidence, we can see in Clinton' speech, she use the word \"people together\", \"American people\", \"our people\", \"young people\",\"for people\", \"help people\" repeatedly to emphasize her thought that America is a united nation. Regardless their ethnic origins, they are all Americans and she show that she can bring people together to build an inclusive America. She also focus on \"young people\" as she \"want young people especially to be part of this, to be in science, technology, engineering, manufacturing, creating this future that will determine the quality of their lives and the competitiveness of American economy\"."
   ]
  },
  {
   "cell_type": "markdown",
   "metadata": {
    "deletable": false,
    "editable": false,
    "nbgrader": {
     "checksum": "c18f925283aa467621ce8bc30c4a4663",
     "grade": false,
     "grade_id": "cell-07e4fdab8826d5b5",
     "locked": true,
     "schema_version": 1,
     "solution": false
    }
   },
   "source": [
    "6.\tDonald Trump is talking about different groups of “people”. Analyse the corpus evidence for one of these groups of “people”. Think about why Donald Trump is representing this group of people in this way, at this particular point in time and to the people attending his campaign events. **Write one paragraph on your analysis. In your paragraph you should:**  \n",
    "    1. **Clearly identify the group of “people” and use corpus evidence to explain and illustrate patterns of use that indicates how the group of “people” are being represented;** (2 marks)  \n",
    "    2. **Discuss how the representation of this group of people relates to the social, political or historical context of these speeches.** (2 marks)"
   ]
  },
  {
   "cell_type": "markdown",
   "metadata": {
    "deletable": false,
    "nbgrader": {
     "checksum": "180422ed1ccad854dadbd49081185bdf",
     "grade": true,
     "grade_id": "LabEx1-6",
     "locked": false,
     "points": 4,
     "schema_version": 1,
     "solution": true
    }
   },
   "source": [
    "A. In Donald Trump's speeches, he usually talked about African-American people. Use corpus evidence, we can see that African-American people are being represented as \"victim\" of crime, broken home, jobless and poverty because of Democractic policies from Hillary Clinton.\n",
    "\n",
    "B. To gain the support from the Africa-American people who attendinghis campaign events, he represented them as \"victim\", then he offerred solution to bring back for them jobs, income, safety. This strategy is particular meaningful in this particular point of time as Michigan State is in downturn and he need to win this State to finally win back the White House."
   ]
  },
  {
   "cell_type": "markdown",
   "metadata": {
    "deletable": false,
    "editable": false,
    "nbgrader": {
     "checksum": "80531de00ebd4376f46e25981da62931",
     "grade": false,
     "grade_id": "cell-f3ba07e246ad5a80",
     "locked": true,
     "schema_version": 1,
     "solution": false
    }
   },
   "source": [
    "Reminder: Have you completed all steps and followed all instructions?"
   ]
  }
 ],
 "metadata": {
  "kernelspec": {
   "display_name": "Python 3",
   "language": "python",
   "name": "python3"
  },
  "language_info": {
   "codemirror_mode": {
    "name": "ipython",
    "version": 3
   },
   "file_extension": ".py",
   "mimetype": "text/x-python",
   "name": "python",
   "nbconvert_exporter": "python",
   "pygments_lexer": "ipython3",
   "version": "3.6.1"
  }
 },
 "nbformat": 4,
 "nbformat_minor": 2
}

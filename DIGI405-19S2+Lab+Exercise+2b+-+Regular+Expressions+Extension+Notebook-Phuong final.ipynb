{
 "cells": [
  {
   "cell_type": "markdown",
   "metadata": {
    "deletable": false,
    "editable": false,
    "nbgrader": {
     "checksum": "1e1ec0311606307fb0c3b51932cd74fe",
     "grade": false,
     "grade_id": "cell-4fbc391937560c64",
     "locked": true,
     "schema_version": 1,
     "solution": false
    }
   },
   "source": [
    "# DIGI405-19S2 Lab Exercise 2b: Regular Expressions Extension Notebook\n",
    "\n",
    "## Preparing for this lab exercise\n",
    "\n",
    "The lecture and readings in week five are relevant in preparing for this task. The notebook titled `DIGI405-19S2 - Regular expressions - a super-quick introduction` is intended to take you through some of the relevant regular expression functionality to complete this exercise.\n",
    "\n",
    "## Lab exercise instructions"
   ]
  },
  {
   "cell_type": "markdown",
   "metadata": {
    "deletable": false,
    "editable": false,
    "nbgrader": {
     "checksum": "6f607a9c1b025caaca1982ff7a3adcb7",
     "grade": false,
     "grade_id": "cell-b0f19ba013f4b0ed",
     "locked": true,
     "schema_version": 1,
     "solution": false
    }
   },
   "source": [
    "**Type your name:**"
   ]
  },
  {
   "cell_type": "markdown",
   "metadata": {
    "deletable": false,
    "nbgrader": {
     "checksum": "4aa0fac89a3767ee2a77787b9a9ed3c9",
     "grade": true,
     "grade_id": "LabEx2b-Name",
     "locked": false,
     "points": 0,
     "schema_version": 1,
     "solution": true
    }
   },
   "source": [
    "PHUONG MY TANG"
   ]
  },
  {
   "cell_type": "markdown",
   "metadata": {
    "deletable": false,
    "editable": false,
    "nbgrader": {
     "checksum": "65546eca130ef64ef4e64de835296b2e",
     "grade": false,
     "grade_id": "cell-fd0673639341c143",
     "locked": true,
     "schema_version": 1,
     "solution": false
    }
   },
   "source": [
    "**Type your Student ID number:**"
   ]
  },
  {
   "cell_type": "markdown",
   "metadata": {
    "deletable": false,
    "nbgrader": {
     "checksum": "659595ceb2a3091c029978864d5187cd",
     "grade": true,
     "grade_id": "LabEx2b-StudentID",
     "locked": false,
     "points": 0,
     "schema_version": 1,
     "solution": true
    }
   },
   "source": [
    "23186540"
   ]
  },
  {
   "cell_type": "markdown",
   "metadata": {
    "deletable": false,
    "editable": false,
    "nbgrader": {
     "checksum": "86c4340237402b16d9a9b9f962b31e82",
     "grade": false,
     "grade_id": "cell-97ecc9462dc42ea3",
     "locked": true,
     "schema_version": 1,
     "solution": false
    }
   },
   "source": [
    "We are expecting you to use the Requests and Re python libraries. Run the next cell to import them."
   ]
  },
  {
   "cell_type": "code",
   "execution_count": 2,
   "metadata": {
    "collapsed": true,
    "deletable": false,
    "editable": false,
    "nbgrader": {
     "checksum": "7ea550b444444bf1db4a1c6dd1d6f5b9",
     "grade": false,
     "grade_id": "cell-9576d1db88e5b66a",
     "locked": true,
     "schema_version": 1,
     "solution": false
    }
   },
   "outputs": [],
   "source": [
    "import requests\n",
    "import re"
   ]
  },
  {
   "cell_type": "markdown",
   "metadata": {
    "deletable": false,
    "editable": false,
    "nbgrader": {
     "checksum": "44c5a416a5f9ea0b3c090d57e4878477",
     "grade": false,
     "grade_id": "cell-084953ef93d973c6",
     "locked": true,
     "schema_version": 1,
     "solution": false
    }
   },
   "source": [
    "Run the next cell to retrieve the text of the short story _At the Bay_ by Katherine Mansfield. You can view the contents of the text file here: https://raw.githubusercontent.com/ucdh/scraping-garden-party/master/garden-party-corpus/at-the-bay.txt."
   ]
  },
  {
   "cell_type": "code",
   "execution_count": 3,
   "metadata": {
    "collapsed": true,
    "deletable": false,
    "editable": false,
    "nbgrader": {
     "checksum": "db1743d56d00d1cfe8197be560fcf1bd",
     "grade": false,
     "grade_id": "cell-3ec36f1d9a869069",
     "locked": true,
     "schema_version": 1,
     "solution": false
    }
   },
   "outputs": [],
   "source": [
    "url = 'https://raw.githubusercontent.com/ucdh/scraping-garden-party/master/garden-party-corpus/at-the-bay.txt'\n",
    "response = requests.get(url)\n",
    "sample = response.text"
   ]
  },
  {
   "cell_type": "markdown",
   "metadata": {
    "deletable": false,
    "editable": false,
    "nbgrader": {
     "checksum": "f110c04111479ba3631f952f07d49b80",
     "grade": false,
     "grade_id": "cell-c1064dc13c1d26d9",
     "locked": true,
     "schema_version": 1,
     "solution": false
    }
   },
   "source": [
    "**For each of the following questions use the following format. Answering these questions will only require you to change the regular expression on the first line of the cell and to explain how it works on the second line of the cell.** As in the introductory notebook, the code will output all instances of the match and a count of the matches."
   ]
  },
  {
   "cell_type": "code",
   "execution_count": 4,
   "metadata": {
    "deletable": false,
    "editable": false,
    "nbgrader": {
     "checksum": "895e199f88ce5e31df493e6c42747884",
     "grade": false,
     "grade_id": "cell-15aac91be7722097",
     "locked": true,
     "schema_version": 1,
     "solution": false
    }
   },
   "outputs": [
    {
     "name": "stdout",
     "output_type": "stream",
     "text": [
      "['Bay', 'Bay', 'Baa', 'Baaa', 'Baa', 'Baaa', 'Bay', 'Baa', 'Baa', 'Bay', 'Bay', 'Bay', 'Bay', 'Baa', 'Baa', 'Bay', 'Bay']\n",
      "Total matches: 17\n"
     ]
    }
   ],
   "source": [
    "pattern = r'Ba\\w+' # this is the line you should modify with your regular expression\n",
    "# explanation: the regular expression matches uppercase B followed by lowercase a followed by 1 or more word characters (\\w+)\n",
    "result = re.findall(pattern, sample)\n",
    "print(result)\n",
    "print('Total matches:',len(result))"
   ]
  },
  {
   "cell_type": "markdown",
   "metadata": {
    "deletable": false,
    "editable": false,
    "nbgrader": {
     "checksum": "0b4aba35e663683fd023659aaf499fe6",
     "grade": false,
     "grade_id": "cell-791f42c466f2f1cf",
     "locked": true,
     "schema_version": 1,
     "solution": false
    }
   },
   "source": [
    "1. (1 mark) **Write a regular expression that matches the next word used after `Linda` in this short story.**  \n",
    "This should not include the word Linda, just the word immediately after Linda."
   ]
  },
  {
   "cell_type": "code",
   "execution_count": 5,
   "metadata": {
    "deletable": false,
    "nbgrader": {
     "checksum": "6e87751c4029c74760008edd12cf1ae7",
     "grade": true,
     "grade_id": "LabEx2b-1",
     "locked": false,
     "points": 1,
     "schema_version": 1,
     "solution": true
    }
   },
   "outputs": [
    {
     "name": "stdout",
     "output_type": "stream",
     "text": [
      "['was', 'cried', 'Burnell', 'clasped', 'felt', 'saw', 'felt', 'frowned', 'glanced', 'smiled', 'dropped', 'was', 'walking', 'dropped', 'swung', 'was', 'thought', 'quickly', 'and', 'there', 'knew', 'was']\n",
      "Total matches: 22\n"
     ]
    }
   ],
   "source": [
    "pattern = r'Linda\\s(\\w+)' # this is the line you should modify with your regular expression\n",
    "# explanation: the regular expression matches the word immediately after Linda, not including the word Linda ([^Linda])\n",
    "result = re.findall(pattern, sample)\n",
    "print(result)\n",
    "print('Total matches:',len(result))"
   ]
  },
  {
   "cell_type": "markdown",
   "metadata": {
    "deletable": false,
    "editable": false,
    "nbgrader": {
     "checksum": "2270a2e42cef777978a507cd56010775",
     "grade": false,
     "grade_id": "cell-e625bd08e521fc1a",
     "locked": true,
     "schema_version": 1,
     "solution": false
    }
   },
   "source": [
    "2. (1 mark) **Write a regular expression that matches all hyphenated words in this short story.**  \n",
    "Make sure that your regular expression will match words with more than one hyphen e.g. `a-goos-a-goos-a-ga`"
   ]
  },
  {
   "cell_type": "code",
   "execution_count": 6,
   "metadata": {
    "deletable": false,
    "nbgrader": {
     "checksum": "b254c1dd3f6e23542b37fa4a9617fdaf",
     "grade": true,
     "grade_id": "LabEx2b-2",
     "locked": false,
     "points": 1,
     "schema_version": 1,
     "solution": true
    }
   },
   "outputs": [
    {
     "name": "stdout",
     "output_type": "stream",
     "text": [
      "['sea-mist', 'bush-covered', 'toi-toi', 'Ah-Aah', 'piled-up', 'stick-like', 'sheep-dog', 'wide-awake', 'far-away', 'shock-haired', 'gum-tree', 'far-away', 'fine-looking', 'milk-girl', 'sheep-dog', 'sheep-dog', 'charred-looking', 'milk-girl', 'sheep-dog', 'fast-drying', 'breast-pocket', 'broad-striped', 'Splish-Splosh', 'Splish-Splosh', 'living-room', 'twenty-five', 'sister-in-law', 'O-oh', 'wide-open', 'grown-ups', 'servant-girl', 'good-bye', 'walking-stick', 'Good-bye', 'good-bye', 'good-bye', 'living-room', 'a-goos-a-goos-a-ga', 'servant-girl', 'Isa-bel', 'lady-help', 'camp-stool', 'lady-help', 'lady-help', 'lady-help', 'button-hook', 'fruit-salad', 'lady-help', 'open-work', 'squashed-looking', 'sand-hills', 'knitting-bag', 'delicate-looking', 'No-o', 'strange-looking', 'exhausted-looking', 'tossed-up', 'Glad-eyes', 'Glad-eyes', 'Glad-eyes', 'pillow-case', 'bathing-dress', 'sandy-feeling', 'bathing-dress', 'gold-dust', 'bathing-cap', 'golden-eyed', 'under-side', 'child-bearing', 'dark-blue', 'white-veined', 'sand-hills', 'sand-hoppers', 'Pit-pit-pit', 'weed-hung', 'sea-forest', 'thread-like', 'berry-spotted', 'thread-like', 'exhausted-looking', 'bathing-dresses', 'sand-shoes', 'desperate-sounding', 'under-bodice', 'puffed-up', 'dressing-gown', 'dressing-table', 'packing-case', 'sea-pinks', 'pin-tray', 'servant-girl', 'iron-mould', 'dashed-looking', 'freshly-washed', 'heart-shaped', 'rig-out', 'gum-tree', 'bathing-dresses', 'left-hand', 'baking-powder', 'basket-chair', 'brown-paper', 'arm-chair', 'arm-chair', 'carpet-border', 'water-fall', 'fern-tree', 'life-size', 'pale-blue', 'clothes-pegs', 'mouse-trap', 'criss-crossed', 'yellow-furry', 'Cock-a-doodle-do', 'Hee-haw', 'Hee-haw', 'Hee-haw', 'round-eyed', 'grown-up', 'wet-looking', 'Mooe-ooo-er', 'Bss-ss', 'Cock-a-doodle-do', 'Bow-wow', 'Hee-haw', 'Ke-zia', 'mouse-still', 'sand-hills', 'grown-ups', 'lamp-light', 'top-heavy', 'pink-fringed', 'sister-in-law', 'manuka-tree', 'up-country', 'crushed-up', 'rose-coloured', 'to-night', 'half-way', 'flower-bed', 'good-bye', 'to-day', 'wash-leather', '_con_-trary', 'dressing-table', 'bed-post', 'window-seat', 'lily-like', 'wide-open', 'manuka-tree']\n",
      "Total matches: 150\n"
     ]
    }
   ],
   "source": [
    "pattern = r'\\w+(?:-\\w+)+' # this is the line you should modify with your regular expression\n",
    "# explanation: the regular expression matches all hyphenated words (\\w+ means one or more word characters. The (?:) means non-capturing groups. The group is matched but is not captured for back-referencing, then followed by a hyphen character - and \\w+ means one or more word characters followed after the hyphen)\n",
    "result = re.findall(pattern, sample)\n",
    "print(result)\n",
    "print('Total matches:',len(result))"
   ]
  },
  {
   "cell_type": "markdown",
   "metadata": {
    "deletable": false,
    "editable": false,
    "nbgrader": {
     "checksum": "8af93a2b31639ee56e7f3494796a843f",
     "grade": false,
     "grade_id": "cell-9f91391ad8e49ad1",
     "locked": true,
     "schema_version": 1,
     "solution": false
    }
   },
   "source": [
    "3. (1 mark) **Write a regular expression that matches direct speech that ends with a question mark.**\n",
    "\n",
    "You will have to inspect the txt file to do this. You should know that since `?` is a regular expression metacharacter, you will need to do some research on how to \"escape\" this metacharacter."
   ]
  },
  {
   "cell_type": "code",
   "execution_count": 7,
   "metadata": {
    "deletable": false,
    "nbgrader": {
     "checksum": "aa4bf7748a9e8eb25e4d371f457b2398",
     "grade": true,
     "grade_id": "LabEx2b-3",
     "locked": false,
     "points": 1,
     "schema_version": 1,
     "solution": true
    }
   },
   "outputs": [
    {
     "name": "stdout",
     "output_type": "stream",
     "text": [
      "['“You’re WHAT?”', '“I’ve no time to—to—to fool about. I\\nwant to get this over. I’m in a hurry. I’ve work to do this\\nmorning—see?”', '“Why not?”', '“You might go and see if\\nthe porridge is ready, Beryl?”', '“Nothing wrong, is there?”', '“Why should there be?”', '“Have you said\\ngood morning to your father?”', '“Morning, mother! How’s the boy?”', '“I’ve\\nonly twelve and a half minutes before the coach passes. Has anyone\\ngiven my shoes to the servant girl?”', '“Me, Aunt Beryl?”', '“Why can’t you eat your food properly like Isabel and Lottie?”', '“But Lottie always makes a floating island, don’t you, Lottie?”', '“Would you get me those shoes, mother? And, Beryl, if you’ve finished,\\nI wish you’d cut down to the gate and stop the coach. Run in to your\\nmother, Isabel, and ask her where my bowler hat’s been put. Wait a\\nminute—have you children been playing with my stick?”', '“You haven’t\\nbeen using it to poke the kitchen fire with by any chance?”', '“Stick, dear? What stick?”', '“Beryl! Has Stanley gone?”', '“Gone?”', '“Where?”', '“I’m getting better at climbing over stiles, aren’t I, Kezia?”', '“Whatever are you going to do with it?”', '“It’s a find—see?”', '“But why does Rags have to keep on pouring water in?”', '“Here, shall I show you what I found yesterday?”', '“Is it really, Pip?”', '“Here, mother, keep those for me, will you?”', '“Yes, dear. But aren’t you going to bathe here?”', '“I say, Glad-eyes, you might heave me a\\nhandkerchief if I’ve got one, will you?”', '“My dear—why not?”', '“And you\\ndon’t wear stays, do you?”', '“Why don’t you like me?”', '“Don’t like babies?”', '“Don’t like _me_?”', '“Why do you keep on smiling?”', '“What are you looking at, my grandma? Why do you keep stopping and sort\\nof staring at the wall?”', '“My Australian Uncle William?”', '“The one I never saw?”', '“Well, what happened to him?”', '“Does it make you sad to think about him, grandma?”', '“But why?”', '“Does everybody have to die?”', '“What if I just won’t?”', '“It is a nice style, isn’t it?”', '“How do you know?”', '“What’ll I be?”', '“When do I have to say it?”', '“Mine?”', '“To keep?”', '“Why don’t you call out, Lottie?”', '“What’s that? What’s that noise?”', '“What noise? What do you mean?”', '“What was it like?”', '“Whatever did we shut the door for?”', '“if a spider was to fall from\\nthe ceiling on to the table, wouldn’t it?”', '“Why doesn’t somebody come and call us?”', '“Where are the other noble dames?”', '“Beryl’s out playing bridge and mother’s giving the boy his bath....\\nHave you come to borrow something?”', '“And so you go back to the office on Monday, do you, Jonathan?”', '“Would ye have me laugh, my fair sister? Would ye have me weep?”', '“as it always has done and always\\nwill do. To spend all the best years of one’s life sitting on a stool\\nfrom nine to five, scratching in somebody’s ledger! It’s a queer use to\\nmake of one’s... one and only life, isn’t it? Or do I fondly dream?”', '“Is it too late,\\neven now?”', '“Is that you,\\ndarling?”', '“Forgive you?”', '“But whatever for?”', '“what must I forgive you for?”', '“What’s that you’ve got in your hand?”', '“I\\nnoticed Bell was wearing some in the coach this morning, so, as I was\\npassing the shop, I dashed in and got myself a pair. What are you\\nsmiling at? You don’t think it was wrong of me, do you?”', '“My very own for ever?”', '“Yes, I’m here. I’m Beryl. Who wants me?”', '“But how do you know he is coming at all?”', '“Do you remember Beryl Fairfield?”', '“Won’t you come for a little walk?”', '“Frightened?”', '“You’re not\\nfrightened, are you? You’re not frightened?”', '“Why should I be?”', '“Then why in God’s name did you come?”']\n",
      "Total matches: 75\n"
     ]
    }
   ],
   "source": [
    "pattern = r'“[^”]*\\?”'\n",
    "# explanation: the regular expression matches: the quotation mark “ to indicate the start of the direct speech, followed by [^”]* means  0 or more instances of any characters that is not contain ” follwed by the question mark \\? and the \\” to end the direct speech. The \\ helps us to escape a regular expression metacharacter    \n",
    "result = re.findall(pattern, sample)\n",
    "print(result)\n",
    "print('Total matches:',len(result))"
   ]
  }
 ],
 "metadata": {
  "kernelspec": {
   "display_name": "Python 3",
   "language": "python",
   "name": "python3"
  },
  "language_info": {
   "codemirror_mode": {
    "name": "ipython",
    "version": 3
   },
   "file_extension": ".py",
   "mimetype": "text/x-python",
   "name": "python",
   "nbconvert_exporter": "python",
   "pygments_lexer": "ipython3",
   "version": "3.6.1"
  }
 },
 "nbformat": 4,
 "nbformat_minor": 2
}
